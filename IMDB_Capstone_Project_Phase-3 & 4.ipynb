{
 "cells": [
  {
   "cell_type": "markdown",
   "id": "7826db4e",
   "metadata": {},
   "source": [
    "# IMDB Dataset - Capstone Project"
   ]
  },
  {
   "cell_type": "markdown",
   "id": "64e5ef98",
   "metadata": {},
   "source": [
    "Phase 3\n",
    "\n",
    "1) Now make only 1 data frame of two CSV files using the join operation of pandas and start doing EDA.\n",
    "\n",
    "2) Do the complete EDA in detail to explore the insights of data and write detailed observations of each analysis."
   ]
  },
  {
   "cell_type": "code",
   "execution_count": 1,
   "id": "ff9536dd",
   "metadata": {},
   "outputs": [],
   "source": [
    "import pandas as pd\n",
    "import warnings\n",
    "warnings. filterwarnings('ignore')"
   ]
  },
  {
   "cell_type": "code",
   "execution_count": 2,
   "id": "815a7298",
   "metadata": {},
   "outputs": [],
   "source": [
    "df1=pd.read_csv(\"imbdmovies1.csv\")"
   ]
  },
  {
   "cell_type": "code",
   "execution_count": 3,
   "id": "9431de81",
   "metadata": {},
   "outputs": [
    {
     "data": {
      "text/html": [
       "<div>\n",
       "<style scoped>\n",
       "    .dataframe tbody tr th:only-of-type {\n",
       "        vertical-align: middle;\n",
       "    }\n",
       "\n",
       "    .dataframe tbody tr th {\n",
       "        vertical-align: top;\n",
       "    }\n",
       "\n",
       "    .dataframe thead th {\n",
       "        text-align: right;\n",
       "    }\n",
       "</style>\n",
       "<table border=\"1\" class=\"dataframe\">\n",
       "  <thead>\n",
       "    <tr style=\"text-align: right;\">\n",
       "      <th></th>\n",
       "      <th>Sno</th>\n",
       "      <th>movies_name</th>\n",
       "      <th>Director_Name</th>\n",
       "      <th>duration</th>\n",
       "      <th>year</th>\n",
       "      <th>rating</th>\n",
       "      <th>metascores</th>\n",
       "    </tr>\n",
       "  </thead>\n",
       "  <tbody>\n",
       "    <tr>\n",
       "      <th>0</th>\n",
       "      <td>1</td>\n",
       "      <td>The Dark Knight</td>\n",
       "      <td>Christopher Nolan</td>\n",
       "      <td>152 min</td>\n",
       "      <td>2008</td>\n",
       "      <td>9.0</td>\n",
       "      <td>84</td>\n",
       "    </tr>\n",
       "    <tr>\n",
       "      <th>1</th>\n",
       "      <td>2</td>\n",
       "      <td>The Lord of the Rings: The Return of the King</td>\n",
       "      <td>Peter Jackson</td>\n",
       "      <td>201 min</td>\n",
       "      <td>2003</td>\n",
       "      <td>9.0</td>\n",
       "      <td>94</td>\n",
       "    </tr>\n",
       "    <tr>\n",
       "      <th>2</th>\n",
       "      <td>3</td>\n",
       "      <td>Spider-Man: Across the Spider-Verse</td>\n",
       "      <td>Joaquim Dos Santos</td>\n",
       "      <td>140 min</td>\n",
       "      <td>2023</td>\n",
       "      <td>8.9</td>\n",
       "      <td>86</td>\n",
       "    </tr>\n",
       "    <tr>\n",
       "      <th>3</th>\n",
       "      <td>4</td>\n",
       "      <td>Inception</td>\n",
       "      <td>Christopher Nolan</td>\n",
       "      <td>148 min</td>\n",
       "      <td>2010</td>\n",
       "      <td>8.8</td>\n",
       "      <td>74</td>\n",
       "    </tr>\n",
       "    <tr>\n",
       "      <th>4</th>\n",
       "      <td>5</td>\n",
       "      <td>The Lord of the Rings: The Fellowship of the Ring</td>\n",
       "      <td>Peter Jackson</td>\n",
       "      <td>178 min</td>\n",
       "      <td>2001</td>\n",
       "      <td>8.8</td>\n",
       "      <td>92</td>\n",
       "    </tr>\n",
       "    <tr>\n",
       "      <th>...</th>\n",
       "      <td>...</td>\n",
       "      <td>...</td>\n",
       "      <td>...</td>\n",
       "      <td>...</td>\n",
       "      <td>...</td>\n",
       "      <td>...</td>\n",
       "      <td>...</td>\n",
       "    </tr>\n",
       "    <tr>\n",
       "      <th>883</th>\n",
       "      <td>884</td>\n",
       "      <td>Gone in Sixty Seconds</td>\n",
       "      <td>Dominic Sena</td>\n",
       "      <td>118 min</td>\n",
       "      <td>2000</td>\n",
       "      <td>6.5</td>\n",
       "      <td>51</td>\n",
       "    </tr>\n",
       "    <tr>\n",
       "      <th>884</th>\n",
       "      <td>885</td>\n",
       "      <td>The Rocketeer</td>\n",
       "      <td>Joe Johnston</td>\n",
       "      <td>108 min</td>\n",
       "      <td>1991</td>\n",
       "      <td>6.5</td>\n",
       "      <td>49</td>\n",
       "    </tr>\n",
       "    <tr>\n",
       "      <th>885</th>\n",
       "      <td>886</td>\n",
       "      <td>Get Smart</td>\n",
       "      <td>Peter Segal</td>\n",
       "      <td>110 min</td>\n",
       "      <td>2008</td>\n",
       "      <td>6.5</td>\n",
       "      <td>56</td>\n",
       "    </tr>\n",
       "    <tr>\n",
       "      <th>886</th>\n",
       "      <td>887</td>\n",
       "      <td>Cliffhanger</td>\n",
       "      <td>Renny Harlin</td>\n",
       "      <td>113 min</td>\n",
       "      <td>1993</td>\n",
       "      <td>6.5</td>\n",
       "      <td>58</td>\n",
       "    </tr>\n",
       "    <tr>\n",
       "      <th>887</th>\n",
       "      <td>888</td>\n",
       "      <td>Never Back Down</td>\n",
       "      <td>Jeff Wadlow</td>\n",
       "      <td>113 min</td>\n",
       "      <td>2008</td>\n",
       "      <td>6.5</td>\n",
       "      <td>59</td>\n",
       "    </tr>\n",
       "  </tbody>\n",
       "</table>\n",
       "<p>888 rows × 7 columns</p>\n",
       "</div>"
      ],
      "text/plain": [
       "     Sno                                        movies_name  \\\n",
       "0      1                                    The Dark Knight   \n",
       "1      2      The Lord of the Rings: The Return of the King   \n",
       "2      3                Spider-Man: Across the Spider-Verse   \n",
       "3      4                                          Inception   \n",
       "4      5  The Lord of the Rings: The Fellowship of the Ring   \n",
       "..   ...                                                ...   \n",
       "883  884                              Gone in Sixty Seconds   \n",
       "884  885                                      The Rocketeer   \n",
       "885  886                                          Get Smart   \n",
       "886  887                                        Cliffhanger   \n",
       "887  888                                    Never Back Down   \n",
       "\n",
       "          Director_Name duration  year  rating  metascores  \n",
       "0     Christopher Nolan  152 min  2008     9.0          84  \n",
       "1         Peter Jackson  201 min  2003     9.0          94  \n",
       "2    Joaquim Dos Santos  140 min  2023     8.9          86  \n",
       "3     Christopher Nolan  148 min  2010     8.8          74  \n",
       "4         Peter Jackson  178 min  2001     8.8          92  \n",
       "..                  ...      ...   ...     ...         ...  \n",
       "883        Dominic Sena  118 min  2000     6.5          51  \n",
       "884        Joe Johnston  108 min  1991     6.5          49  \n",
       "885         Peter Segal  110 min  2008     6.5          56  \n",
       "886        Renny Harlin  113 min  1993     6.5          58  \n",
       "887         Jeff Wadlow  113 min  2008     6.5          59  \n",
       "\n",
       "[888 rows x 7 columns]"
      ]
     },
     "execution_count": 3,
     "metadata": {},
     "output_type": "execute_result"
    }
   ],
   "source": [
    "df1"
   ]
  },
  {
   "cell_type": "code",
   "execution_count": 4,
   "id": "7f01e059",
   "metadata": {},
   "outputs": [],
   "source": [
    "df2=pd.read_csv(\"imbdmovies2.csv\")"
   ]
  },
  {
   "cell_type": "code",
   "execution_count": 5,
   "id": "0a5b667d",
   "metadata": {},
   "outputs": [
    {
     "data": {
      "text/html": [
       "<div>\n",
       "<style scoped>\n",
       "    .dataframe tbody tr th:only-of-type {\n",
       "        vertical-align: middle;\n",
       "    }\n",
       "\n",
       "    .dataframe tbody tr th {\n",
       "        vertical-align: top;\n",
       "    }\n",
       "\n",
       "    .dataframe thead th {\n",
       "        text-align: right;\n",
       "    }\n",
       "</style>\n",
       "<table border=\"1\" class=\"dataframe\">\n",
       "  <thead>\n",
       "    <tr style=\"text-align: right;\">\n",
       "      <th></th>\n",
       "      <th>Sno</th>\n",
       "      <th>movies_name</th>\n",
       "      <th>star_Name</th>\n",
       "      <th>genres</th>\n",
       "    </tr>\n",
       "  </thead>\n",
       "  <tbody>\n",
       "    <tr>\n",
       "      <th>0</th>\n",
       "      <td>1</td>\n",
       "      <td>The Dark Knight</td>\n",
       "      <td>9.0</td>\n",
       "      <td>Action, Crime, Drama</td>\n",
       "    </tr>\n",
       "    <tr>\n",
       "      <th>1</th>\n",
       "      <td>2</td>\n",
       "      <td>The Lord of the Rings: The Return of the King</td>\n",
       "      <td>9.0</td>\n",
       "      <td>Action, Adventure, Drama</td>\n",
       "    </tr>\n",
       "    <tr>\n",
       "      <th>2</th>\n",
       "      <td>3</td>\n",
       "      <td>Spider-Man: Across the Spider-Verse</td>\n",
       "      <td>8.9</td>\n",
       "      <td>Animation, Action, Adventure</td>\n",
       "    </tr>\n",
       "    <tr>\n",
       "      <th>3</th>\n",
       "      <td>4</td>\n",
       "      <td>Inception</td>\n",
       "      <td>8.8</td>\n",
       "      <td>Action, Adventure, Sci-Fi</td>\n",
       "    </tr>\n",
       "    <tr>\n",
       "      <th>4</th>\n",
       "      <td>5</td>\n",
       "      <td>The Lord of the Rings: The Fellowship of the Ring</td>\n",
       "      <td>8.8</td>\n",
       "      <td>Action, Adventure, Drama</td>\n",
       "    </tr>\n",
       "    <tr>\n",
       "      <th>...</th>\n",
       "      <td>...</td>\n",
       "      <td>...</td>\n",
       "      <td>...</td>\n",
       "      <td>...</td>\n",
       "    </tr>\n",
       "    <tr>\n",
       "      <th>883</th>\n",
       "      <td>884</td>\n",
       "      <td>Octopussy</td>\n",
       "      <td>6.5</td>\n",
       "      <td>Action, Adventure, Thriller</td>\n",
       "    </tr>\n",
       "    <tr>\n",
       "      <th>884</th>\n",
       "      <td>885</td>\n",
       "      <td>Sin City: A Dame to Kill For</td>\n",
       "      <td>6.5</td>\n",
       "      <td>Action, Crime, Thriller</td>\n",
       "    </tr>\n",
       "    <tr>\n",
       "      <th>885</th>\n",
       "      <td>886</td>\n",
       "      <td>The Chronicles of Narnia: Prince Caspian</td>\n",
       "      <td>6.5</td>\n",
       "      <td>Action, Adventure, Family</td>\n",
       "    </tr>\n",
       "    <tr>\n",
       "      <th>886</th>\n",
       "      <td>887</td>\n",
       "      <td>The Rocketeer</td>\n",
       "      <td>6.5</td>\n",
       "      <td>Action, Adventure, Family</td>\n",
       "    </tr>\n",
       "    <tr>\n",
       "      <th>887</th>\n",
       "      <td>888</td>\n",
       "      <td>The Interview</td>\n",
       "      <td>6.5</td>\n",
       "      <td>Action, Adventure, Comedy</td>\n",
       "    </tr>\n",
       "  </tbody>\n",
       "</table>\n",
       "<p>888 rows × 4 columns</p>\n",
       "</div>"
      ],
      "text/plain": [
       "     Sno                                        movies_name  star_Name  \\\n",
       "0      1                                    The Dark Knight        9.0   \n",
       "1      2      The Lord of the Rings: The Return of the King        9.0   \n",
       "2      3                Spider-Man: Across the Spider-Verse        8.9   \n",
       "3      4                                          Inception        8.8   \n",
       "4      5  The Lord of the Rings: The Fellowship of the Ring        8.8   \n",
       "..   ...                                                ...        ...   \n",
       "883  884                                          Octopussy        6.5   \n",
       "884  885                       Sin City: A Dame to Kill For        6.5   \n",
       "885  886           The Chronicles of Narnia: Prince Caspian        6.5   \n",
       "886  887                                      The Rocketeer        6.5   \n",
       "887  888                                      The Interview        6.5   \n",
       "\n",
       "                           genres  \n",
       "0            Action, Crime, Drama  \n",
       "1        Action, Adventure, Drama  \n",
       "2    Animation, Action, Adventure  \n",
       "3       Action, Adventure, Sci-Fi  \n",
       "4        Action, Adventure, Drama  \n",
       "..                            ...  \n",
       "883   Action, Adventure, Thriller  \n",
       "884       Action, Crime, Thriller  \n",
       "885     Action, Adventure, Family  \n",
       "886     Action, Adventure, Family  \n",
       "887     Action, Adventure, Comedy  \n",
       "\n",
       "[888 rows x 4 columns]"
      ]
     },
     "execution_count": 5,
     "metadata": {},
     "output_type": "execute_result"
    }
   ],
   "source": [
    "df2"
   ]
  },
  {
   "cell_type": "code",
   "execution_count": 6,
   "id": "fe7d2b4c",
   "metadata": {},
   "outputs": [],
   "source": [
    "df=df1+df2"
   ]
  },
  {
   "cell_type": "code",
   "execution_count": 7,
   "id": "1a6b62f9",
   "metadata": {},
   "outputs": [
    {
     "data": {
      "text/html": [
       "<div>\n",
       "<style scoped>\n",
       "    .dataframe tbody tr th:only-of-type {\n",
       "        vertical-align: middle;\n",
       "    }\n",
       "\n",
       "    .dataframe tbody tr th {\n",
       "        vertical-align: top;\n",
       "    }\n",
       "\n",
       "    .dataframe thead th {\n",
       "        text-align: right;\n",
       "    }\n",
       "</style>\n",
       "<table border=\"1\" class=\"dataframe\">\n",
       "  <thead>\n",
       "    <tr style=\"text-align: right;\">\n",
       "      <th></th>\n",
       "      <th>Director_Name</th>\n",
       "      <th>Sno</th>\n",
       "      <th>duration</th>\n",
       "      <th>genres</th>\n",
       "      <th>metascores</th>\n",
       "      <th>movies_name</th>\n",
       "      <th>rating</th>\n",
       "      <th>star_Name</th>\n",
       "      <th>year</th>\n",
       "    </tr>\n",
       "  </thead>\n",
       "  <tbody>\n",
       "    <tr>\n",
       "      <th>0</th>\n",
       "      <td>NaN</td>\n",
       "      <td>2</td>\n",
       "      <td>NaN</td>\n",
       "      <td>NaN</td>\n",
       "      <td>NaN</td>\n",
       "      <td>The Dark KnightThe Dark Knight</td>\n",
       "      <td>NaN</td>\n",
       "      <td>NaN</td>\n",
       "      <td>NaN</td>\n",
       "    </tr>\n",
       "    <tr>\n",
       "      <th>1</th>\n",
       "      <td>NaN</td>\n",
       "      <td>4</td>\n",
       "      <td>NaN</td>\n",
       "      <td>NaN</td>\n",
       "      <td>NaN</td>\n",
       "      <td>The Lord of the Rings: The Return of the KingT...</td>\n",
       "      <td>NaN</td>\n",
       "      <td>NaN</td>\n",
       "      <td>NaN</td>\n",
       "    </tr>\n",
       "    <tr>\n",
       "      <th>2</th>\n",
       "      <td>NaN</td>\n",
       "      <td>6</td>\n",
       "      <td>NaN</td>\n",
       "      <td>NaN</td>\n",
       "      <td>NaN</td>\n",
       "      <td>Spider-Man: Across the Spider-VerseSpider-Man:...</td>\n",
       "      <td>NaN</td>\n",
       "      <td>NaN</td>\n",
       "      <td>NaN</td>\n",
       "    </tr>\n",
       "    <tr>\n",
       "      <th>3</th>\n",
       "      <td>NaN</td>\n",
       "      <td>8</td>\n",
       "      <td>NaN</td>\n",
       "      <td>NaN</td>\n",
       "      <td>NaN</td>\n",
       "      <td>InceptionInception</td>\n",
       "      <td>NaN</td>\n",
       "      <td>NaN</td>\n",
       "      <td>NaN</td>\n",
       "    </tr>\n",
       "    <tr>\n",
       "      <th>4</th>\n",
       "      <td>NaN</td>\n",
       "      <td>10</td>\n",
       "      <td>NaN</td>\n",
       "      <td>NaN</td>\n",
       "      <td>NaN</td>\n",
       "      <td>The Lord of the Rings: The Fellowship of the R...</td>\n",
       "      <td>NaN</td>\n",
       "      <td>NaN</td>\n",
       "      <td>NaN</td>\n",
       "    </tr>\n",
       "    <tr>\n",
       "      <th>...</th>\n",
       "      <td>...</td>\n",
       "      <td>...</td>\n",
       "      <td>...</td>\n",
       "      <td>...</td>\n",
       "      <td>...</td>\n",
       "      <td>...</td>\n",
       "      <td>...</td>\n",
       "      <td>...</td>\n",
       "      <td>...</td>\n",
       "    </tr>\n",
       "    <tr>\n",
       "      <th>883</th>\n",
       "      <td>NaN</td>\n",
       "      <td>1768</td>\n",
       "      <td>NaN</td>\n",
       "      <td>NaN</td>\n",
       "      <td>NaN</td>\n",
       "      <td>Gone in Sixty SecondsOctopussy</td>\n",
       "      <td>NaN</td>\n",
       "      <td>NaN</td>\n",
       "      <td>NaN</td>\n",
       "    </tr>\n",
       "    <tr>\n",
       "      <th>884</th>\n",
       "      <td>NaN</td>\n",
       "      <td>1770</td>\n",
       "      <td>NaN</td>\n",
       "      <td>NaN</td>\n",
       "      <td>NaN</td>\n",
       "      <td>The RocketeerSin City: A Dame to Kill For</td>\n",
       "      <td>NaN</td>\n",
       "      <td>NaN</td>\n",
       "      <td>NaN</td>\n",
       "    </tr>\n",
       "    <tr>\n",
       "      <th>885</th>\n",
       "      <td>NaN</td>\n",
       "      <td>1772</td>\n",
       "      <td>NaN</td>\n",
       "      <td>NaN</td>\n",
       "      <td>NaN</td>\n",
       "      <td>Get SmartThe Chronicles of Narnia: Prince Caspian</td>\n",
       "      <td>NaN</td>\n",
       "      <td>NaN</td>\n",
       "      <td>NaN</td>\n",
       "    </tr>\n",
       "    <tr>\n",
       "      <th>886</th>\n",
       "      <td>NaN</td>\n",
       "      <td>1774</td>\n",
       "      <td>NaN</td>\n",
       "      <td>NaN</td>\n",
       "      <td>NaN</td>\n",
       "      <td>CliffhangerThe Rocketeer</td>\n",
       "      <td>NaN</td>\n",
       "      <td>NaN</td>\n",
       "      <td>NaN</td>\n",
       "    </tr>\n",
       "    <tr>\n",
       "      <th>887</th>\n",
       "      <td>NaN</td>\n",
       "      <td>1776</td>\n",
       "      <td>NaN</td>\n",
       "      <td>NaN</td>\n",
       "      <td>NaN</td>\n",
       "      <td>Never Back DownThe Interview</td>\n",
       "      <td>NaN</td>\n",
       "      <td>NaN</td>\n",
       "      <td>NaN</td>\n",
       "    </tr>\n",
       "  </tbody>\n",
       "</table>\n",
       "<p>888 rows × 9 columns</p>\n",
       "</div>"
      ],
      "text/plain": [
       "     Director_Name   Sno  duration  genres  metascores  \\\n",
       "0              NaN     2       NaN     NaN         NaN   \n",
       "1              NaN     4       NaN     NaN         NaN   \n",
       "2              NaN     6       NaN     NaN         NaN   \n",
       "3              NaN     8       NaN     NaN         NaN   \n",
       "4              NaN    10       NaN     NaN         NaN   \n",
       "..             ...   ...       ...     ...         ...   \n",
       "883            NaN  1768       NaN     NaN         NaN   \n",
       "884            NaN  1770       NaN     NaN         NaN   \n",
       "885            NaN  1772       NaN     NaN         NaN   \n",
       "886            NaN  1774       NaN     NaN         NaN   \n",
       "887            NaN  1776       NaN     NaN         NaN   \n",
       "\n",
       "                                           movies_name  rating  star_Name  \\\n",
       "0                       The Dark KnightThe Dark Knight     NaN        NaN   \n",
       "1    The Lord of the Rings: The Return of the KingT...     NaN        NaN   \n",
       "2    Spider-Man: Across the Spider-VerseSpider-Man:...     NaN        NaN   \n",
       "3                                   InceptionInception     NaN        NaN   \n",
       "4    The Lord of the Rings: The Fellowship of the R...     NaN        NaN   \n",
       "..                                                 ...     ...        ...   \n",
       "883                     Gone in Sixty SecondsOctopussy     NaN        NaN   \n",
       "884          The RocketeerSin City: A Dame to Kill For     NaN        NaN   \n",
       "885  Get SmartThe Chronicles of Narnia: Prince Caspian     NaN        NaN   \n",
       "886                           CliffhangerThe Rocketeer     NaN        NaN   \n",
       "887                       Never Back DownThe Interview     NaN        NaN   \n",
       "\n",
       "     year  \n",
       "0     NaN  \n",
       "1     NaN  \n",
       "2     NaN  \n",
       "3     NaN  \n",
       "4     NaN  \n",
       "..    ...  \n",
       "883   NaN  \n",
       "884   NaN  \n",
       "885   NaN  \n",
       "886   NaN  \n",
       "887   NaN  \n",
       "\n",
       "[888 rows x 9 columns]"
      ]
     },
     "execution_count": 7,
     "metadata": {},
     "output_type": "execute_result"
    }
   ],
   "source": [
    "df"
   ]
  },
  {
   "cell_type": "code",
   "execution_count": 8,
   "id": "daf5f7de",
   "metadata": {},
   "outputs": [],
   "source": [
    "merged_df = pd.merge(df1, df2, on='movies_name', how='inner')"
   ]
  },
  {
   "cell_type": "code",
   "execution_count": 9,
   "id": "c881ba1a",
   "metadata": {},
   "outputs": [
    {
     "data": {
      "text/html": [
       "<div>\n",
       "<style scoped>\n",
       "    .dataframe tbody tr th:only-of-type {\n",
       "        vertical-align: middle;\n",
       "    }\n",
       "\n",
       "    .dataframe tbody tr th {\n",
       "        vertical-align: top;\n",
       "    }\n",
       "\n",
       "    .dataframe thead th {\n",
       "        text-align: right;\n",
       "    }\n",
       "</style>\n",
       "<table border=\"1\" class=\"dataframe\">\n",
       "  <thead>\n",
       "    <tr style=\"text-align: right;\">\n",
       "      <th></th>\n",
       "      <th>Sno_x</th>\n",
       "      <th>movies_name</th>\n",
       "      <th>Director_Name</th>\n",
       "      <th>duration</th>\n",
       "      <th>year</th>\n",
       "      <th>rating</th>\n",
       "      <th>metascores</th>\n",
       "      <th>Sno_y</th>\n",
       "      <th>star_Name</th>\n",
       "      <th>genres</th>\n",
       "    </tr>\n",
       "  </thead>\n",
       "  <tbody>\n",
       "    <tr>\n",
       "      <th>0</th>\n",
       "      <td>1</td>\n",
       "      <td>The Dark Knight</td>\n",
       "      <td>Christopher Nolan</td>\n",
       "      <td>152 min</td>\n",
       "      <td>2008</td>\n",
       "      <td>9.0</td>\n",
       "      <td>84</td>\n",
       "      <td>1</td>\n",
       "      <td>9.0</td>\n",
       "      <td>Action, Crime, Drama</td>\n",
       "    </tr>\n",
       "    <tr>\n",
       "      <th>1</th>\n",
       "      <td>2</td>\n",
       "      <td>The Lord of the Rings: The Return of the King</td>\n",
       "      <td>Peter Jackson</td>\n",
       "      <td>201 min</td>\n",
       "      <td>2003</td>\n",
       "      <td>9.0</td>\n",
       "      <td>94</td>\n",
       "      <td>2</td>\n",
       "      <td>9.0</td>\n",
       "      <td>Action, Adventure, Drama</td>\n",
       "    </tr>\n",
       "    <tr>\n",
       "      <th>2</th>\n",
       "      <td>3</td>\n",
       "      <td>Spider-Man: Across the Spider-Verse</td>\n",
       "      <td>Joaquim Dos Santos</td>\n",
       "      <td>140 min</td>\n",
       "      <td>2023</td>\n",
       "      <td>8.9</td>\n",
       "      <td>86</td>\n",
       "      <td>3</td>\n",
       "      <td>8.9</td>\n",
       "      <td>Animation, Action, Adventure</td>\n",
       "    </tr>\n",
       "    <tr>\n",
       "      <th>3</th>\n",
       "      <td>4</td>\n",
       "      <td>Inception</td>\n",
       "      <td>Christopher Nolan</td>\n",
       "      <td>148 min</td>\n",
       "      <td>2010</td>\n",
       "      <td>8.8</td>\n",
       "      <td>74</td>\n",
       "      <td>4</td>\n",
       "      <td>8.8</td>\n",
       "      <td>Action, Adventure, Sci-Fi</td>\n",
       "    </tr>\n",
       "    <tr>\n",
       "      <th>4</th>\n",
       "      <td>5</td>\n",
       "      <td>The Lord of the Rings: The Fellowship of the Ring</td>\n",
       "      <td>Peter Jackson</td>\n",
       "      <td>178 min</td>\n",
       "      <td>2001</td>\n",
       "      <td>8.8</td>\n",
       "      <td>92</td>\n",
       "      <td>5</td>\n",
       "      <td>8.8</td>\n",
       "      <td>Action, Adventure, Drama</td>\n",
       "    </tr>\n",
       "    <tr>\n",
       "      <th>...</th>\n",
       "      <td>...</td>\n",
       "      <td>...</td>\n",
       "      <td>...</td>\n",
       "      <td>...</td>\n",
       "      <td>...</td>\n",
       "      <td>...</td>\n",
       "      <td>...</td>\n",
       "      <td>...</td>\n",
       "      <td>...</td>\n",
       "      <td>...</td>\n",
       "    </tr>\n",
       "    <tr>\n",
       "      <th>888</th>\n",
       "      <td>882</td>\n",
       "      <td>Olympus Has Fallen</td>\n",
       "      <td>Antoine Fuqua</td>\n",
       "      <td>119 min</td>\n",
       "      <td>2013</td>\n",
       "      <td>6.5</td>\n",
       "      <td>54</td>\n",
       "      <td>864</td>\n",
       "      <td>6.5</td>\n",
       "      <td>Action, Thriller</td>\n",
       "    </tr>\n",
       "    <tr>\n",
       "      <th>889</th>\n",
       "      <td>883</td>\n",
       "      <td>Tag</td>\n",
       "      <td>Jeff Tomsic</td>\n",
       "      <td>100 min</td>\n",
       "      <td>I) (2018</td>\n",
       "      <td>6.5</td>\n",
       "      <td>64</td>\n",
       "      <td>867</td>\n",
       "      <td>6.5</td>\n",
       "      <td>Action, Comedy</td>\n",
       "    </tr>\n",
       "    <tr>\n",
       "      <th>890</th>\n",
       "      <td>884</td>\n",
       "      <td>Gone in Sixty Seconds</td>\n",
       "      <td>Dominic Sena</td>\n",
       "      <td>118 min</td>\n",
       "      <td>2000</td>\n",
       "      <td>6.5</td>\n",
       "      <td>51</td>\n",
       "      <td>878</td>\n",
       "      <td>6.5</td>\n",
       "      <td>Action, Crime, Thriller</td>\n",
       "    </tr>\n",
       "    <tr>\n",
       "      <th>891</th>\n",
       "      <td>885</td>\n",
       "      <td>The Rocketeer</td>\n",
       "      <td>Joe Johnston</td>\n",
       "      <td>108 min</td>\n",
       "      <td>1991</td>\n",
       "      <td>6.5</td>\n",
       "      <td>49</td>\n",
       "      <td>887</td>\n",
       "      <td>6.5</td>\n",
       "      <td>Action, Adventure, Family</td>\n",
       "    </tr>\n",
       "    <tr>\n",
       "      <th>892</th>\n",
       "      <td>888</td>\n",
       "      <td>Never Back Down</td>\n",
       "      <td>Jeff Wadlow</td>\n",
       "      <td>113 min</td>\n",
       "      <td>2008</td>\n",
       "      <td>6.5</td>\n",
       "      <td>59</td>\n",
       "      <td>879</td>\n",
       "      <td>6.5</td>\n",
       "      <td>Action, Drama, Sport</td>\n",
       "    </tr>\n",
       "  </tbody>\n",
       "</table>\n",
       "<p>893 rows × 10 columns</p>\n",
       "</div>"
      ],
      "text/plain": [
       "     Sno_x                                        movies_name  \\\n",
       "0        1                                    The Dark Knight   \n",
       "1        2      The Lord of the Rings: The Return of the King   \n",
       "2        3                Spider-Man: Across the Spider-Verse   \n",
       "3        4                                          Inception   \n",
       "4        5  The Lord of the Rings: The Fellowship of the Ring   \n",
       "..     ...                                                ...   \n",
       "888    882                                 Olympus Has Fallen   \n",
       "889    883                                                Tag   \n",
       "890    884                              Gone in Sixty Seconds   \n",
       "891    885                                      The Rocketeer   \n",
       "892    888                                    Never Back Down   \n",
       "\n",
       "          Director_Name duration      year  rating  metascores  Sno_y  \\\n",
       "0     Christopher Nolan  152 min      2008     9.0          84      1   \n",
       "1         Peter Jackson  201 min      2003     9.0          94      2   \n",
       "2    Joaquim Dos Santos  140 min      2023     8.9          86      3   \n",
       "3     Christopher Nolan  148 min      2010     8.8          74      4   \n",
       "4         Peter Jackson  178 min      2001     8.8          92      5   \n",
       "..                  ...      ...       ...     ...         ...    ...   \n",
       "888       Antoine Fuqua  119 min      2013     6.5          54    864   \n",
       "889         Jeff Tomsic  100 min  I) (2018     6.5          64    867   \n",
       "890        Dominic Sena  118 min      2000     6.5          51    878   \n",
       "891        Joe Johnston  108 min      1991     6.5          49    887   \n",
       "892         Jeff Wadlow  113 min      2008     6.5          59    879   \n",
       "\n",
       "     star_Name                        genres  \n",
       "0          9.0          Action, Crime, Drama  \n",
       "1          9.0      Action, Adventure, Drama  \n",
       "2          8.9  Animation, Action, Adventure  \n",
       "3          8.8     Action, Adventure, Sci-Fi  \n",
       "4          8.8      Action, Adventure, Drama  \n",
       "..         ...                           ...  \n",
       "888        6.5              Action, Thriller  \n",
       "889        6.5                Action, Comedy  \n",
       "890        6.5       Action, Crime, Thriller  \n",
       "891        6.5     Action, Adventure, Family  \n",
       "892        6.5          Action, Drama, Sport  \n",
       "\n",
       "[893 rows x 10 columns]"
      ]
     },
     "execution_count": 9,
     "metadata": {},
     "output_type": "execute_result"
    }
   ],
   "source": [
    "merged_df"
   ]
  },
  {
   "cell_type": "code",
   "execution_count": 10,
   "id": "0310ddd5",
   "metadata": {},
   "outputs": [],
   "source": [
    "df=merged_df"
   ]
  },
  {
   "cell_type": "code",
   "execution_count": 11,
   "id": "216f1301",
   "metadata": {},
   "outputs": [
    {
     "data": {
      "text/html": [
       "<div>\n",
       "<style scoped>\n",
       "    .dataframe tbody tr th:only-of-type {\n",
       "        vertical-align: middle;\n",
       "    }\n",
       "\n",
       "    .dataframe tbody tr th {\n",
       "        vertical-align: top;\n",
       "    }\n",
       "\n",
       "    .dataframe thead th {\n",
       "        text-align: right;\n",
       "    }\n",
       "</style>\n",
       "<table border=\"1\" class=\"dataframe\">\n",
       "  <thead>\n",
       "    <tr style=\"text-align: right;\">\n",
       "      <th></th>\n",
       "      <th>Sno_x</th>\n",
       "      <th>movies_name</th>\n",
       "      <th>Director_Name</th>\n",
       "      <th>duration</th>\n",
       "      <th>year</th>\n",
       "      <th>rating</th>\n",
       "      <th>metascores</th>\n",
       "      <th>Sno_y</th>\n",
       "      <th>star_Name</th>\n",
       "      <th>genres</th>\n",
       "    </tr>\n",
       "  </thead>\n",
       "  <tbody>\n",
       "    <tr>\n",
       "      <th>0</th>\n",
       "      <td>1</td>\n",
       "      <td>The Dark Knight</td>\n",
       "      <td>Christopher Nolan</td>\n",
       "      <td>152 min</td>\n",
       "      <td>2008</td>\n",
       "      <td>9.0</td>\n",
       "      <td>84</td>\n",
       "      <td>1</td>\n",
       "      <td>9.0</td>\n",
       "      <td>Action, Crime, Drama</td>\n",
       "    </tr>\n",
       "    <tr>\n",
       "      <th>1</th>\n",
       "      <td>2</td>\n",
       "      <td>The Lord of the Rings: The Return of the King</td>\n",
       "      <td>Peter Jackson</td>\n",
       "      <td>201 min</td>\n",
       "      <td>2003</td>\n",
       "      <td>9.0</td>\n",
       "      <td>94</td>\n",
       "      <td>2</td>\n",
       "      <td>9.0</td>\n",
       "      <td>Action, Adventure, Drama</td>\n",
       "    </tr>\n",
       "    <tr>\n",
       "      <th>2</th>\n",
       "      <td>3</td>\n",
       "      <td>Spider-Man: Across the Spider-Verse</td>\n",
       "      <td>Joaquim Dos Santos</td>\n",
       "      <td>140 min</td>\n",
       "      <td>2023</td>\n",
       "      <td>8.9</td>\n",
       "      <td>86</td>\n",
       "      <td>3</td>\n",
       "      <td>8.9</td>\n",
       "      <td>Animation, Action, Adventure</td>\n",
       "    </tr>\n",
       "    <tr>\n",
       "      <th>3</th>\n",
       "      <td>4</td>\n",
       "      <td>Inception</td>\n",
       "      <td>Christopher Nolan</td>\n",
       "      <td>148 min</td>\n",
       "      <td>2010</td>\n",
       "      <td>8.8</td>\n",
       "      <td>74</td>\n",
       "      <td>4</td>\n",
       "      <td>8.8</td>\n",
       "      <td>Action, Adventure, Sci-Fi</td>\n",
       "    </tr>\n",
       "    <tr>\n",
       "      <th>4</th>\n",
       "      <td>5</td>\n",
       "      <td>The Lord of the Rings: The Fellowship of the Ring</td>\n",
       "      <td>Peter Jackson</td>\n",
       "      <td>178 min</td>\n",
       "      <td>2001</td>\n",
       "      <td>8.8</td>\n",
       "      <td>92</td>\n",
       "      <td>5</td>\n",
       "      <td>8.8</td>\n",
       "      <td>Action, Adventure, Drama</td>\n",
       "    </tr>\n",
       "    <tr>\n",
       "      <th>...</th>\n",
       "      <td>...</td>\n",
       "      <td>...</td>\n",
       "      <td>...</td>\n",
       "      <td>...</td>\n",
       "      <td>...</td>\n",
       "      <td>...</td>\n",
       "      <td>...</td>\n",
       "      <td>...</td>\n",
       "      <td>...</td>\n",
       "      <td>...</td>\n",
       "    </tr>\n",
       "    <tr>\n",
       "      <th>888</th>\n",
       "      <td>882</td>\n",
       "      <td>Olympus Has Fallen</td>\n",
       "      <td>Antoine Fuqua</td>\n",
       "      <td>119 min</td>\n",
       "      <td>2013</td>\n",
       "      <td>6.5</td>\n",
       "      <td>54</td>\n",
       "      <td>864</td>\n",
       "      <td>6.5</td>\n",
       "      <td>Action, Thriller</td>\n",
       "    </tr>\n",
       "    <tr>\n",
       "      <th>889</th>\n",
       "      <td>883</td>\n",
       "      <td>Tag</td>\n",
       "      <td>Jeff Tomsic</td>\n",
       "      <td>100 min</td>\n",
       "      <td>I) (2018</td>\n",
       "      <td>6.5</td>\n",
       "      <td>64</td>\n",
       "      <td>867</td>\n",
       "      <td>6.5</td>\n",
       "      <td>Action, Comedy</td>\n",
       "    </tr>\n",
       "    <tr>\n",
       "      <th>890</th>\n",
       "      <td>884</td>\n",
       "      <td>Gone in Sixty Seconds</td>\n",
       "      <td>Dominic Sena</td>\n",
       "      <td>118 min</td>\n",
       "      <td>2000</td>\n",
       "      <td>6.5</td>\n",
       "      <td>51</td>\n",
       "      <td>878</td>\n",
       "      <td>6.5</td>\n",
       "      <td>Action, Crime, Thriller</td>\n",
       "    </tr>\n",
       "    <tr>\n",
       "      <th>891</th>\n",
       "      <td>885</td>\n",
       "      <td>The Rocketeer</td>\n",
       "      <td>Joe Johnston</td>\n",
       "      <td>108 min</td>\n",
       "      <td>1991</td>\n",
       "      <td>6.5</td>\n",
       "      <td>49</td>\n",
       "      <td>887</td>\n",
       "      <td>6.5</td>\n",
       "      <td>Action, Adventure, Family</td>\n",
       "    </tr>\n",
       "    <tr>\n",
       "      <th>892</th>\n",
       "      <td>888</td>\n",
       "      <td>Never Back Down</td>\n",
       "      <td>Jeff Wadlow</td>\n",
       "      <td>113 min</td>\n",
       "      <td>2008</td>\n",
       "      <td>6.5</td>\n",
       "      <td>59</td>\n",
       "      <td>879</td>\n",
       "      <td>6.5</td>\n",
       "      <td>Action, Drama, Sport</td>\n",
       "    </tr>\n",
       "  </tbody>\n",
       "</table>\n",
       "<p>893 rows × 10 columns</p>\n",
       "</div>"
      ],
      "text/plain": [
       "     Sno_x                                        movies_name  \\\n",
       "0        1                                    The Dark Knight   \n",
       "1        2      The Lord of the Rings: The Return of the King   \n",
       "2        3                Spider-Man: Across the Spider-Verse   \n",
       "3        4                                          Inception   \n",
       "4        5  The Lord of the Rings: The Fellowship of the Ring   \n",
       "..     ...                                                ...   \n",
       "888    882                                 Olympus Has Fallen   \n",
       "889    883                                                Tag   \n",
       "890    884                              Gone in Sixty Seconds   \n",
       "891    885                                      The Rocketeer   \n",
       "892    888                                    Never Back Down   \n",
       "\n",
       "          Director_Name duration      year  rating  metascores  Sno_y  \\\n",
       "0     Christopher Nolan  152 min      2008     9.0          84      1   \n",
       "1         Peter Jackson  201 min      2003     9.0          94      2   \n",
       "2    Joaquim Dos Santos  140 min      2023     8.9          86      3   \n",
       "3     Christopher Nolan  148 min      2010     8.8          74      4   \n",
       "4         Peter Jackson  178 min      2001     8.8          92      5   \n",
       "..                  ...      ...       ...     ...         ...    ...   \n",
       "888       Antoine Fuqua  119 min      2013     6.5          54    864   \n",
       "889         Jeff Tomsic  100 min  I) (2018     6.5          64    867   \n",
       "890        Dominic Sena  118 min      2000     6.5          51    878   \n",
       "891        Joe Johnston  108 min      1991     6.5          49    887   \n",
       "892         Jeff Wadlow  113 min      2008     6.5          59    879   \n",
       "\n",
       "     star_Name                        genres  \n",
       "0          9.0          Action, Crime, Drama  \n",
       "1          9.0      Action, Adventure, Drama  \n",
       "2          8.9  Animation, Action, Adventure  \n",
       "3          8.8     Action, Adventure, Sci-Fi  \n",
       "4          8.8      Action, Adventure, Drama  \n",
       "..         ...                           ...  \n",
       "888        6.5              Action, Thriller  \n",
       "889        6.5                Action, Comedy  \n",
       "890        6.5       Action, Crime, Thriller  \n",
       "891        6.5     Action, Adventure, Family  \n",
       "892        6.5          Action, Drama, Sport  \n",
       "\n",
       "[893 rows x 10 columns]"
      ]
     },
     "execution_count": 11,
     "metadata": {},
     "output_type": "execute_result"
    }
   ],
   "source": [
    "df"
   ]
  },
  {
   "cell_type": "code",
   "execution_count": 12,
   "id": "358a95b6",
   "metadata": {},
   "outputs": [],
   "source": [
    "df=df.drop([\"Sno_x\",\"Sno_y\"],axis=1)"
   ]
  },
  {
   "cell_type": "code",
   "execution_count": 13,
   "id": "8b38b4da",
   "metadata": {},
   "outputs": [
    {
     "data": {
      "text/html": [
       "<div>\n",
       "<style scoped>\n",
       "    .dataframe tbody tr th:only-of-type {\n",
       "        vertical-align: middle;\n",
       "    }\n",
       "\n",
       "    .dataframe tbody tr th {\n",
       "        vertical-align: top;\n",
       "    }\n",
       "\n",
       "    .dataframe thead th {\n",
       "        text-align: right;\n",
       "    }\n",
       "</style>\n",
       "<table border=\"1\" class=\"dataframe\">\n",
       "  <thead>\n",
       "    <tr style=\"text-align: right;\">\n",
       "      <th></th>\n",
       "      <th>movies_name</th>\n",
       "      <th>Director_Name</th>\n",
       "      <th>duration</th>\n",
       "      <th>year</th>\n",
       "      <th>rating</th>\n",
       "      <th>metascores</th>\n",
       "      <th>star_Name</th>\n",
       "      <th>genres</th>\n",
       "    </tr>\n",
       "  </thead>\n",
       "  <tbody>\n",
       "    <tr>\n",
       "      <th>0</th>\n",
       "      <td>The Dark Knight</td>\n",
       "      <td>Christopher Nolan</td>\n",
       "      <td>152 min</td>\n",
       "      <td>2008</td>\n",
       "      <td>9.0</td>\n",
       "      <td>84</td>\n",
       "      <td>9.0</td>\n",
       "      <td>Action, Crime, Drama</td>\n",
       "    </tr>\n",
       "    <tr>\n",
       "      <th>1</th>\n",
       "      <td>The Lord of the Rings: The Return of the King</td>\n",
       "      <td>Peter Jackson</td>\n",
       "      <td>201 min</td>\n",
       "      <td>2003</td>\n",
       "      <td>9.0</td>\n",
       "      <td>94</td>\n",
       "      <td>9.0</td>\n",
       "      <td>Action, Adventure, Drama</td>\n",
       "    </tr>\n",
       "    <tr>\n",
       "      <th>2</th>\n",
       "      <td>Spider-Man: Across the Spider-Verse</td>\n",
       "      <td>Joaquim Dos Santos</td>\n",
       "      <td>140 min</td>\n",
       "      <td>2023</td>\n",
       "      <td>8.9</td>\n",
       "      <td>86</td>\n",
       "      <td>8.9</td>\n",
       "      <td>Animation, Action, Adventure</td>\n",
       "    </tr>\n",
       "    <tr>\n",
       "      <th>3</th>\n",
       "      <td>Inception</td>\n",
       "      <td>Christopher Nolan</td>\n",
       "      <td>148 min</td>\n",
       "      <td>2010</td>\n",
       "      <td>8.8</td>\n",
       "      <td>74</td>\n",
       "      <td>8.8</td>\n",
       "      <td>Action, Adventure, Sci-Fi</td>\n",
       "    </tr>\n",
       "    <tr>\n",
       "      <th>4</th>\n",
       "      <td>The Lord of the Rings: The Fellowship of the Ring</td>\n",
       "      <td>Peter Jackson</td>\n",
       "      <td>178 min</td>\n",
       "      <td>2001</td>\n",
       "      <td>8.8</td>\n",
       "      <td>92</td>\n",
       "      <td>8.8</td>\n",
       "      <td>Action, Adventure, Drama</td>\n",
       "    </tr>\n",
       "    <tr>\n",
       "      <th>...</th>\n",
       "      <td>...</td>\n",
       "      <td>...</td>\n",
       "      <td>...</td>\n",
       "      <td>...</td>\n",
       "      <td>...</td>\n",
       "      <td>...</td>\n",
       "      <td>...</td>\n",
       "      <td>...</td>\n",
       "    </tr>\n",
       "    <tr>\n",
       "      <th>888</th>\n",
       "      <td>Olympus Has Fallen</td>\n",
       "      <td>Antoine Fuqua</td>\n",
       "      <td>119 min</td>\n",
       "      <td>2013</td>\n",
       "      <td>6.5</td>\n",
       "      <td>54</td>\n",
       "      <td>6.5</td>\n",
       "      <td>Action, Thriller</td>\n",
       "    </tr>\n",
       "    <tr>\n",
       "      <th>889</th>\n",
       "      <td>Tag</td>\n",
       "      <td>Jeff Tomsic</td>\n",
       "      <td>100 min</td>\n",
       "      <td>I) (2018</td>\n",
       "      <td>6.5</td>\n",
       "      <td>64</td>\n",
       "      <td>6.5</td>\n",
       "      <td>Action, Comedy</td>\n",
       "    </tr>\n",
       "    <tr>\n",
       "      <th>890</th>\n",
       "      <td>Gone in Sixty Seconds</td>\n",
       "      <td>Dominic Sena</td>\n",
       "      <td>118 min</td>\n",
       "      <td>2000</td>\n",
       "      <td>6.5</td>\n",
       "      <td>51</td>\n",
       "      <td>6.5</td>\n",
       "      <td>Action, Crime, Thriller</td>\n",
       "    </tr>\n",
       "    <tr>\n",
       "      <th>891</th>\n",
       "      <td>The Rocketeer</td>\n",
       "      <td>Joe Johnston</td>\n",
       "      <td>108 min</td>\n",
       "      <td>1991</td>\n",
       "      <td>6.5</td>\n",
       "      <td>49</td>\n",
       "      <td>6.5</td>\n",
       "      <td>Action, Adventure, Family</td>\n",
       "    </tr>\n",
       "    <tr>\n",
       "      <th>892</th>\n",
       "      <td>Never Back Down</td>\n",
       "      <td>Jeff Wadlow</td>\n",
       "      <td>113 min</td>\n",
       "      <td>2008</td>\n",
       "      <td>6.5</td>\n",
       "      <td>59</td>\n",
       "      <td>6.5</td>\n",
       "      <td>Action, Drama, Sport</td>\n",
       "    </tr>\n",
       "  </tbody>\n",
       "</table>\n",
       "<p>893 rows × 8 columns</p>\n",
       "</div>"
      ],
      "text/plain": [
       "                                           movies_name       Director_Name  \\\n",
       "0                                      The Dark Knight   Christopher Nolan   \n",
       "1        The Lord of the Rings: The Return of the King       Peter Jackson   \n",
       "2                  Spider-Man: Across the Spider-Verse  Joaquim Dos Santos   \n",
       "3                                            Inception   Christopher Nolan   \n",
       "4    The Lord of the Rings: The Fellowship of the Ring       Peter Jackson   \n",
       "..                                                 ...                 ...   \n",
       "888                                 Olympus Has Fallen       Antoine Fuqua   \n",
       "889                                                Tag         Jeff Tomsic   \n",
       "890                              Gone in Sixty Seconds        Dominic Sena   \n",
       "891                                      The Rocketeer        Joe Johnston   \n",
       "892                                    Never Back Down         Jeff Wadlow   \n",
       "\n",
       "    duration      year  rating  metascores  star_Name  \\\n",
       "0    152 min      2008     9.0          84        9.0   \n",
       "1    201 min      2003     9.0          94        9.0   \n",
       "2    140 min      2023     8.9          86        8.9   \n",
       "3    148 min      2010     8.8          74        8.8   \n",
       "4    178 min      2001     8.8          92        8.8   \n",
       "..       ...       ...     ...         ...        ...   \n",
       "888  119 min      2013     6.5          54        6.5   \n",
       "889  100 min  I) (2018     6.5          64        6.5   \n",
       "890  118 min      2000     6.5          51        6.5   \n",
       "891  108 min      1991     6.5          49        6.5   \n",
       "892  113 min      2008     6.5          59        6.5   \n",
       "\n",
       "                           genres  \n",
       "0            Action, Crime, Drama  \n",
       "1        Action, Adventure, Drama  \n",
       "2    Animation, Action, Adventure  \n",
       "3       Action, Adventure, Sci-Fi  \n",
       "4        Action, Adventure, Drama  \n",
       "..                            ...  \n",
       "888              Action, Thriller  \n",
       "889                Action, Comedy  \n",
       "890       Action, Crime, Thriller  \n",
       "891     Action, Adventure, Family  \n",
       "892          Action, Drama, Sport  \n",
       "\n",
       "[893 rows x 8 columns]"
      ]
     },
     "execution_count": 13,
     "metadata": {},
     "output_type": "execute_result"
    }
   ],
   "source": [
    "df"
   ]
  },
  {
   "cell_type": "markdown",
   "id": "81449ebb",
   "metadata": {},
   "source": [
    "# About the columns"
   ]
  },
  {
   "cell_type": "markdown",
   "id": "d61357af",
   "metadata": {},
   "source": [
    "1. movies_name: This column contains the names or titles of the movies in the dataset. It identifies each movie uniquely and serves as the primary identifier for the film.\n",
    "\n",
    "2. Director_Name: This column contains the names of the directors who directed the respective movies. It represents the primary director's name associated with each film.\n",
    "\n",
    "3. duration: The duration column represents the length or runtime of the movies, usually measured in minutes. It indicates how long the movie lasts from start to finish.\n",
    "\n",
    "4. year: The year column contains the release year of each movie. It provides information about when the movie was officially released to the public.\n",
    "\n",
    "5. rating: The rating column indicates the IMDb rating or user rating for each movie. IMDb ratings are typically represented as a decimal number between 0 and 10, with higher values indicating better user ratings.\n",
    "\n",
    "6. metascores: The metascores column represents the Metascore rating for each movie. Metascore is a weighted average rating assigned by professional critics and publications, typically ranging from 0 to 100.\n",
    "\n",
    "7. star_Name: This column contains the names of the leading actors or stars associated with each movie. It represents the primary cast members who played significant roles in the film.\n",
    "\n",
    "8. genres: The genres column categorizes each movie into one or more genres, representing the type or style of the film. Genres could include categories like action, comedy, drama, thriller, sci-fi, romance, etc."
   ]
  },
  {
   "cell_type": "code",
   "execution_count": 14,
   "id": "4d3e7fdb",
   "metadata": {},
   "outputs": [
    {
     "data": {
      "text/plain": [
       "movies_name      0\n",
       "Director_Name    0\n",
       "duration         0\n",
       "year             0\n",
       "rating           0\n",
       "metascores       0\n",
       "star_Name        0\n",
       "genres           0\n",
       "dtype: int64"
      ]
     },
     "execution_count": 14,
     "metadata": {},
     "output_type": "execute_result"
    }
   ],
   "source": [
    "df.isnull().sum()"
   ]
  },
  {
   "cell_type": "code",
   "execution_count": 15,
   "id": "8a9a5aae",
   "metadata": {},
   "outputs": [
    {
     "name": "stdout",
     "output_type": "stream",
     "text": [
      "<class 'pandas.core.frame.DataFrame'>\n",
      "Int64Index: 893 entries, 0 to 892\n",
      "Data columns (total 8 columns):\n",
      " #   Column         Non-Null Count  Dtype  \n",
      "---  ------         --------------  -----  \n",
      " 0   movies_name    893 non-null    object \n",
      " 1   Director_Name  893 non-null    object \n",
      " 2   duration       893 non-null    object \n",
      " 3   year           893 non-null    object \n",
      " 4   rating         893 non-null    float64\n",
      " 5   metascores     893 non-null    int64  \n",
      " 6   star_Name      893 non-null    float64\n",
      " 7   genres         893 non-null    object \n",
      "dtypes: float64(2), int64(1), object(5)\n",
      "memory usage: 62.8+ KB\n"
     ]
    }
   ],
   "source": [
    "df.info()"
   ]
  },
  {
   "cell_type": "code",
   "execution_count": 16,
   "id": "57cde3bb",
   "metadata": {},
   "outputs": [
    {
     "data": {
      "text/html": [
       "<div>\n",
       "<style scoped>\n",
       "    .dataframe tbody tr th:only-of-type {\n",
       "        vertical-align: middle;\n",
       "    }\n",
       "\n",
       "    .dataframe tbody tr th {\n",
       "        vertical-align: top;\n",
       "    }\n",
       "\n",
       "    .dataframe thead th {\n",
       "        text-align: right;\n",
       "    }\n",
       "</style>\n",
       "<table border=\"1\" class=\"dataframe\">\n",
       "  <thead>\n",
       "    <tr style=\"text-align: right;\">\n",
       "      <th></th>\n",
       "      <th>rating</th>\n",
       "      <th>metascores</th>\n",
       "      <th>star_Name</th>\n",
       "    </tr>\n",
       "  </thead>\n",
       "  <tbody>\n",
       "    <tr>\n",
       "      <th>count</th>\n",
       "      <td>893.000000</td>\n",
       "      <td>893.000000</td>\n",
       "      <td>893.000000</td>\n",
       "    </tr>\n",
       "    <tr>\n",
       "      <th>mean</th>\n",
       "      <td>7.231243</td>\n",
       "      <td>62.396417</td>\n",
       "      <td>7.231019</td>\n",
       "    </tr>\n",
       "    <tr>\n",
       "      <th>std</th>\n",
       "      <td>0.534167</td>\n",
       "      <td>13.176691</td>\n",
       "      <td>0.534411</td>\n",
       "    </tr>\n",
       "    <tr>\n",
       "      <th>min</th>\n",
       "      <td>6.500000</td>\n",
       "      <td>24.000000</td>\n",
       "      <td>6.500000</td>\n",
       "    </tr>\n",
       "    <tr>\n",
       "      <th>25%</th>\n",
       "      <td>6.800000</td>\n",
       "      <td>53.000000</td>\n",
       "      <td>6.800000</td>\n",
       "    </tr>\n",
       "    <tr>\n",
       "      <th>50%</th>\n",
       "      <td>7.100000</td>\n",
       "      <td>63.000000</td>\n",
       "      <td>7.100000</td>\n",
       "    </tr>\n",
       "    <tr>\n",
       "      <th>75%</th>\n",
       "      <td>7.600000</td>\n",
       "      <td>71.000000</td>\n",
       "      <td>7.600000</td>\n",
       "    </tr>\n",
       "    <tr>\n",
       "      <th>max</th>\n",
       "      <td>9.000000</td>\n",
       "      <td>98.000000</td>\n",
       "      <td>9.000000</td>\n",
       "    </tr>\n",
       "  </tbody>\n",
       "</table>\n",
       "</div>"
      ],
      "text/plain": [
       "           rating  metascores   star_Name\n",
       "count  893.000000  893.000000  893.000000\n",
       "mean     7.231243   62.396417    7.231019\n",
       "std      0.534167   13.176691    0.534411\n",
       "min      6.500000   24.000000    6.500000\n",
       "25%      6.800000   53.000000    6.800000\n",
       "50%      7.100000   63.000000    7.100000\n",
       "75%      7.600000   71.000000    7.600000\n",
       "max      9.000000   98.000000    9.000000"
      ]
     },
     "execution_count": 16,
     "metadata": {},
     "output_type": "execute_result"
    }
   ],
   "source": [
    "#add few more parameter , i want to do more non grapical analysis so i can use df.describe method\n",
    "df.describe()"
   ]
  },
  {
   "cell_type": "markdown",
   "id": "cdfb59e0",
   "metadata": {},
   "source": [
    "2 . EDA"
   ]
  },
  {
   "cell_type": "code",
   "execution_count": 17,
   "id": "842e0df1",
   "metadata": {},
   "outputs": [
    {
     "data": {
      "text/plain": [
       "<AxesSubplot:xlabel='metascores', ylabel='rating'>"
      ]
     },
     "execution_count": 17,
     "metadata": {},
     "output_type": "execute_result"
    },
    {
     "data": {
      "image/png": "[encoded data removed]",
      "text/plain": [
       "<Figure size 432x288 with 1 Axes>"
      ]
     },
     "metadata": {
      "needs_background": "light"
     },
     "output_type": "display_data"
    }
   ],
   "source": [
    "import seaborn as sns\n",
    "sns.scatterplot(x=\"metascores\", y=\"rating\", data=df)"
   ]
  },
  {
   "cell_type": "code",
   "execution_count": 18,
   "id": "66c83846",
   "metadata": {},
   "outputs": [
    {
     "data": {
      "text/plain": [
       "<AxesSubplot:xlabel='star_Name', ylabel='rating'>"
      ]
     },
     "execution_count": 18,
     "metadata": {},
     "output_type": "execute_result"
    },
    {
     "data": {
      "image/png": "[encoded data removed]",
      "text/plain": [
       "<Figure size 432x288 with 1 Axes>"
      ]
     },
     "metadata": {
      "needs_background": "light"
     },
     "output_type": "display_data"
    }
   ],
   "source": [
    "sns.scatterplot(x=\"star_Name\", y=\"rating\", data=df)"
   ]
  },
  {
   "cell_type": "code",
   "execution_count": 19,
   "id": "c93e4179",
   "metadata": {},
   "outputs": [
    {
     "data": {
      "text/plain": [
       "<seaborn.axisgrid.FacetGrid at 0x1e118d6a190>"
      ]
     },
     "execution_count": 19,
     "metadata": {},
     "output_type": "execute_result"
    },
    {
     "data": {
      "image/png": "[encoded data removed]",
      "text/plain": [
       "<Figure size 360x360 with 1 Axes>"
      ]
     },
     "metadata": {
      "needs_background": "light"
     },
     "output_type": "display_data"
    }
   ],
   "source": [
    "sns.lmplot(x='metascores', y='rating', data=df, palette='colorblind')"
   ]
  },
  {
   "cell_type": "code",
   "execution_count": 20,
   "id": "c38a86ec",
   "metadata": {},
   "outputs": [
    {
     "data": {
      "text/plain": [
       "<seaborn.axisgrid.FacetGrid at 0x1e1195ece50>"
      ]
     },
     "execution_count": 20,
     "metadata": {},
     "output_type": "execute_result"
    },
    {
     "data": {
      "image/png": "[encoded data removed]",
      "text/plain": [
       "<Figure size 360x360 with 1 Axes>"
      ]
     },
     "metadata": {
      "needs_background": "light"
     },
     "output_type": "display_data"
    }
   ],
   "source": [
    "sns.lmplot(x='star_Name', y='rating', data=df, palette='colorblind')"
   ]
  },
  {
   "cell_type": "markdown",
   "id": "c8e0a8eb",
   "metadata": {},
   "source": [
    "star_name as positive correlaation with ratings"
   ]
  },
  {
   "cell_type": "code",
   "execution_count": 21,
   "id": "7ebce973",
   "metadata": {},
   "outputs": [
    {
     "data": {
      "text/plain": [
       "<seaborn.axisgrid.PairGrid at 0x1e1195feb80>"
      ]
     },
     "execution_count": 21,
     "metadata": {},
     "output_type": "execute_result"
    },
    {
     "data": {
      "image/png": "[encoded data removed]",
      "text/plain": [
       "<Figure size 540x540 with 12 Axes>"
      ]
     },
     "metadata": {
      "needs_background": "light"
     },
     "output_type": "display_data"
    }
   ],
   "source": [
    "sns.pairplot(data=df, palette ='Dark2')\n",
    "#for multivariate analysis here using pairplot"
   ]
  },
  {
   "cell_type": "code",
   "execution_count": 22,
   "id": "383bb317",
   "metadata": {},
   "outputs": [],
   "source": [
    "import matplotlib.pyplot as plt"
   ]
  },
  {
   "cell_type": "code",
   "execution_count": 23,
   "id": "195731cc",
   "metadata": {},
   "outputs": [
    {
     "data": {
      "text/plain": [
       "{'whiskers': [<matplotlib.lines.Line2D at 0x1e119c41910>,\n",
       "  <matplotlib.lines.Line2D at 0x1e119c41be0>],\n",
       " 'caps': [<matplotlib.lines.Line2D at 0x1e119c41eb0>,\n",
       "  <matplotlib.lines.Line2D at 0x1e119c4f1c0>],\n",
       " 'boxes': [<matplotlib.lines.Line2D at 0x1e119c416a0>],\n",
       " 'medians': [<matplotlib.lines.Line2D at 0x1e119c4f4c0>],\n",
       " 'fliers': [<matplotlib.lines.Line2D at 0x1e119c4f790>],\n",
       " 'means': []}"
      ]
     },
     "execution_count": 23,
     "metadata": {},
     "output_type": "execute_result"
    },
    {
     "data": {
      "image/png": "[encoded data removed]",
      "text/plain": [
       "<Figure size 432x288 with 1 Axes>"
      ]
     },
     "metadata": {
      "needs_background": "light"
     },
     "output_type": "display_data"
    }
   ],
   "source": [
    "plt.boxplot(df.rating)\n"
   ]
  },
  {
   "cell_type": "code",
   "execution_count": 24,
   "id": "8508d899",
   "metadata": {},
   "outputs": [
    {
     "data": {
      "text/plain": [
       "{'whiskers': [<matplotlib.lines.Line2D at 0x1e11ada3c10>,\n",
       "  <matplotlib.lines.Line2D at 0x1e11ada3ee0>],\n",
       " 'caps': [<matplotlib.lines.Line2D at 0x1e11adb31f0>,\n",
       "  <matplotlib.lines.Line2D at 0x1e11adb34c0>],\n",
       " 'boxes': [<matplotlib.lines.Line2D at 0x1e11ada39d0>],\n",
       " 'medians': [<matplotlib.lines.Line2D at 0x1e11adb3790>],\n",
       " 'fliers': [<matplotlib.lines.Line2D at 0x1e11adb3a90>],\n",
       " 'means': []}"
      ]
     },
     "execution_count": 24,
     "metadata": {},
     "output_type": "execute_result"
    },
    {
     "data": {
      "image/png": "[encoded data removed]",
      "text/plain": [
       "<Figure size 432x288 with 1 Axes>"
      ]
     },
     "metadata": {
      "needs_background": "light"
     },
     "output_type": "display_data"
    }
   ],
   "source": [
    "plt.boxplot(df.metascores)"
   ]
  },
  {
   "cell_type": "code",
   "execution_count": 25,
   "id": "19a79aef",
   "metadata": {},
   "outputs": [
    {
     "data": {
      "text/plain": [
       "{'whiskers': [<matplotlib.lines.Line2D at 0x1e11ae0aa60>,\n",
       "  <matplotlib.lines.Line2D at 0x1e11ae0ad30>],\n",
       " 'caps': [<matplotlib.lines.Line2D at 0x1e11ae1b040>,\n",
       "  <matplotlib.lines.Line2D at 0x1e11ae1b310>],\n",
       " 'boxes': [<matplotlib.lines.Line2D at 0x1e11ae0a7f0>],\n",
       " 'medians': [<matplotlib.lines.Line2D at 0x1e11ae1b5e0>],\n",
       " 'fliers': [<matplotlib.lines.Line2D at 0x1e11ae1b8e0>],\n",
       " 'means': []}"
      ]
     },
     "execution_count": 25,
     "metadata": {},
     "output_type": "execute_result"
    },
    {
     "data": {
      "image/png": "[encoded data removed]",
      "text/plain": [
       "<Figure size 432x288 with 1 Axes>"
      ]
     },
     "metadata": {
      "needs_background": "light"
     },
     "output_type": "display_data"
    }
   ],
   "source": [
    "plt.boxplot(df.star_Name)"
   ]
  },
  {
   "cell_type": "code",
   "execution_count": 26,
   "id": "bf8a78b5",
   "metadata": {},
   "outputs": [
    {
     "data": {
      "text/plain": [
       "<AxesSubplot:xlabel='star_Name'>"
      ]
     },
     "execution_count": 26,
     "metadata": {},
     "output_type": "execute_result"
    },
    {
     "data": {
      "image/png": "[encoded data removed]",
      "text/plain": [
       "<Figure size 432x288 with 1 Axes>"
      ]
     },
     "metadata": {
      "needs_background": "light"
     },
     "output_type": "display_data"
    }
   ],
   "source": [
    "import seaborn as sns\n",
    "sns.boxplot(df.star_Name)\n",
    "\n"
   ]
  },
  {
   "cell_type": "code",
   "execution_count": 27,
   "id": "89f7fb86",
   "metadata": {},
   "outputs": [
    {
     "data": {
      "text/plain": [
       "<AxesSubplot:xlabel='rating'>"
      ]
     },
     "execution_count": 27,
     "metadata": {},
     "output_type": "execute_result"
    },
    {
     "data": {
      "image/png": "[encoded data removed]",
      "text/plain": [
       "<Figure size 432x288 with 1 Axes>"
      ]
     },
     "metadata": {
      "needs_background": "light"
     },
     "output_type": "display_data"
    }
   ],
   "source": [
    "sns.boxplot(df.rating)"
   ]
  },
  {
   "cell_type": "code",
   "execution_count": 28,
   "id": "eaeb281e",
   "metadata": {},
   "outputs": [
    {
     "data": {
      "text/plain": [
       "<AxesSubplot:xlabel='metascores'>"
      ]
     },
     "execution_count": 28,
     "metadata": {},
     "output_type": "execute_result"
    },
    {
     "data": {
      "image/png": "[encoded data removed]",
      "text/plain": [
       "<Figure size 432x288 with 1 Axes>"
      ]
     },
     "metadata": {
      "needs_background": "light"
     },
     "output_type": "display_data"
    }
   ],
   "source": [
    "sns.boxplot(df.metascores)"
   ]
  },
  {
   "cell_type": "code",
   "execution_count": 29,
   "id": "30c58650",
   "metadata": {},
   "outputs": [
    {
     "data": {
      "text/plain": [
       "<AxesSubplot:>"
      ]
     },
     "execution_count": 29,
     "metadata": {},
     "output_type": "execute_result"
    },
    {
     "data": {
      "image/png": "[encoded data removed]",
      "text/plain": [
       "<Figure size 1080x504 with 2 Axes>"
      ]
     },
     "metadata": {
      "needs_background": "light"
     },
     "output_type": "display_data"
    }
   ],
   "source": [
    "import matplotlib.pyplot as plt\n",
    "plt.figure(figsize=(15,7))\n",
    "sns.heatmap(df.corr(), annot=True, linewidth=0.5, linecolor=\"black\", fmt='0.2f')"
   ]
  },
  {
   "cell_type": "code",
   "execution_count": 30,
   "id": "5e90b0fa",
   "metadata": {},
   "outputs": [
    {
     "data": {
      "text/html": [
       "<div>\n",
       "<style scoped>\n",
       "    .dataframe tbody tr th:only-of-type {\n",
       "        vertical-align: middle;\n",
       "    }\n",
       "\n",
       "    .dataframe tbody tr th {\n",
       "        vertical-align: top;\n",
       "    }\n",
       "\n",
       "    .dataframe thead th {\n",
       "        text-align: right;\n",
       "    }\n",
       "</style>\n",
       "<table border=\"1\" class=\"dataframe\">\n",
       "  <thead>\n",
       "    <tr style=\"text-align: right;\">\n",
       "      <th></th>\n",
       "      <th>rating</th>\n",
       "      <th>metascores</th>\n",
       "      <th>star_Name</th>\n",
       "    </tr>\n",
       "  </thead>\n",
       "  <tbody>\n",
       "    <tr>\n",
       "      <th>count</th>\n",
       "      <td>893.000000</td>\n",
       "      <td>893.000000</td>\n",
       "      <td>893.000000</td>\n",
       "    </tr>\n",
       "    <tr>\n",
       "      <th>mean</th>\n",
       "      <td>7.231243</td>\n",
       "      <td>62.396417</td>\n",
       "      <td>7.231019</td>\n",
       "    </tr>\n",
       "    <tr>\n",
       "      <th>std</th>\n",
       "      <td>0.534167</td>\n",
       "      <td>13.176691</td>\n",
       "      <td>0.534411</td>\n",
       "    </tr>\n",
       "    <tr>\n",
       "      <th>min</th>\n",
       "      <td>6.500000</td>\n",
       "      <td>24.000000</td>\n",
       "      <td>6.500000</td>\n",
       "    </tr>\n",
       "    <tr>\n",
       "      <th>25%</th>\n",
       "      <td>6.800000</td>\n",
       "      <td>53.000000</td>\n",
       "      <td>6.800000</td>\n",
       "    </tr>\n",
       "    <tr>\n",
       "      <th>50%</th>\n",
       "      <td>7.100000</td>\n",
       "      <td>63.000000</td>\n",
       "      <td>7.100000</td>\n",
       "    </tr>\n",
       "    <tr>\n",
       "      <th>75%</th>\n",
       "      <td>7.600000</td>\n",
       "      <td>71.000000</td>\n",
       "      <td>7.600000</td>\n",
       "    </tr>\n",
       "    <tr>\n",
       "      <th>max</th>\n",
       "      <td>9.000000</td>\n",
       "      <td>98.000000</td>\n",
       "      <td>9.000000</td>\n",
       "    </tr>\n",
       "  </tbody>\n",
       "</table>\n",
       "</div>"
      ],
      "text/plain": [
       "           rating  metascores   star_Name\n",
       "count  893.000000  893.000000  893.000000\n",
       "mean     7.231243   62.396417    7.231019\n",
       "std      0.534167   13.176691    0.534411\n",
       "min      6.500000   24.000000    6.500000\n",
       "25%      6.800000   53.000000    6.800000\n",
       "50%      7.100000   63.000000    7.100000\n",
       "75%      7.600000   71.000000    7.600000\n",
       "max      9.000000   98.000000    9.000000"
      ]
     },
     "execution_count": 30,
     "metadata": {},
     "output_type": "execute_result"
    }
   ],
   "source": [
    "df.describe()"
   ]
  },
  {
   "cell_type": "code",
   "execution_count": 31,
   "id": "ad4ae77e",
   "metadata": {},
   "outputs": [
    {
     "data": {
      "image/png": "[encoded data removed]",
      "text/plain": [
       "<Figure size 1080x864 with 2 Axes>"
      ]
     },
     "metadata": {
      "needs_background": "light"
     },
     "output_type": "display_data"
    }
   ],
   "source": [
    "plt.figure(figsize=(15,12))\n",
    "sns.heatmap(round(df.describe()[1:].transpose(),2),linewidth=2, annot=True, fmt=\"f\")\n",
    "plt.xticks(fontsize=18)\n",
    "plt.yticks(fontsize=12)\n",
    "plt.title(\"Variables summary\")\n",
    "plt.show()"
   ]
  },
  {
   "cell_type": "code",
   "execution_count": 32,
   "id": "8f5cc78a",
   "metadata": {},
   "outputs": [
    {
     "data": {
      "text/plain": [
       "(893, 8)"
      ]
     },
     "execution_count": 32,
     "metadata": {},
     "output_type": "execute_result"
    }
   ],
   "source": [
    "df.shape"
   ]
  },
  {
   "cell_type": "markdown",
   "id": "4d48faab",
   "metadata": {},
   "source": [
    "Skewness"
   ]
  },
  {
   "cell_type": "code",
   "execution_count": 33,
   "id": "98586b8c",
   "metadata": {},
   "outputs": [
    {
     "data": {
      "text/plain": [
       "rating        0.669307\n",
       "metascores    0.013910\n",
       "star_Name     0.668862\n",
       "dtype: float64"
      ]
     },
     "execution_count": 33,
     "metadata": {},
     "output_type": "execute_result"
    }
   ],
   "source": [
    "df.skew()"
   ]
  },
  {
   "cell_type": "markdown",
   "id": "c736e0df",
   "metadata": {},
   "source": [
    "Normal Distribution Curve"
   ]
  },
  {
   "cell_type": "code",
   "execution_count": 34,
   "id": "dd690c57",
   "metadata": {},
   "outputs": [
    {
     "data": {
      "text/plain": [
       "<AxesSubplot:xlabel='rating', ylabel='Density'>"
      ]
     },
     "execution_count": 34,
     "metadata": {},
     "output_type": "execute_result"
    },
    {
     "data": {
      "image/png": "[encoded data removed]",
      "text/plain": [
       "<Figure size 432x288 with 1 Axes>"
      ]
     },
     "metadata": {
      "needs_background": "light"
     },
     "output_type": "display_data"
    }
   ],
   "source": [
    "sns.distplot(df['rating'])"
   ]
  },
  {
   "cell_type": "code",
   "execution_count": 35,
   "id": "471e8f2d",
   "metadata": {},
   "outputs": [
    {
     "data": {
      "text/plain": [
       "<AxesSubplot:xlabel='star_Name', ylabel='Density'>"
      ]
     },
     "execution_count": 35,
     "metadata": {},
     "output_type": "execute_result"
    },
    {
     "data": {
      "image/png": "[encoded data removed]",
      "text/plain": [
       "<Figure size 432x288 with 1 Axes>"
      ]
     },
     "metadata": {
      "needs_background": "light"
     },
     "output_type": "display_data"
    }
   ],
   "source": [
    "sns.distplot(df['star_Name'])"
   ]
  },
  {
   "cell_type": "code",
   "execution_count": 36,
   "id": "8d05e34c",
   "metadata": {},
   "outputs": [
    {
     "data": {
      "text/plain": [
       "<AxesSubplot:xlabel='metascores', ylabel='Density'>"
      ]
     },
     "execution_count": 36,
     "metadata": {},
     "output_type": "execute_result"
    },
    {
     "data": {
      "image/png": "[encoded data removed]",
      "text/plain": [
       "<Figure size 432x288 with 1 Axes>"
      ]
     },
     "metadata": {
      "needs_background": "light"
     },
     "output_type": "display_data"
    }
   ],
   "source": [
    "sns.distplot(df['metascores'])"
   ]
  },
  {
   "cell_type": "code",
   "execution_count": 38,
   "id": "401adbab",
   "metadata": {},
   "outputs": [
    {
     "name": "stdout",
     "output_type": "stream",
     "text": [
      "Categorical Columns: ['movies_name', 'Director_Name', 'duration', 'year', 'genres']\n",
      "\n",
      "\n",
      "Numerical Columns: ['rating', 'metascores', 'star_Name']\n"
     ]
    }
   ],
   "source": [
    "#Separting Numerical and categorical column\n",
    "\n",
    "#checking for Categorical columns\n",
    "categorical_col = []\n",
    "for i in df.dtypes.index:\n",
    "    if df.dtypes[i] == \"object\":     #dtypes[i]-dtypes of any columns object it will append that columns in empty list \n",
    "        categorical_col.append(i)    #append method is used to add the value in your existing list\n",
    "print(\"Categorical Columns:\", categorical_col)\n",
    "print(\"\\n\")\n",
    "\n",
    "#Checking for Numerical columns\n",
    "#Explanatory mark is used for not- when the condition my datatype is not object in that time  \n",
    "#cont--is not satisifed in that time it append the numerical list\n",
    "numerical_col = []        #creating empty list\n",
    "for i in df.dtypes.index:\n",
    "    if df.dtypes[i]!='object':      \n",
    "        numerical_col.append(i)\n",
    "print(\"Numerical Columns:\", numerical_col)"
   ]
  },
  {
   "cell_type": "code",
   "execution_count": 39,
   "id": "809f3512",
   "metadata": {},
   "outputs": [
    {
     "data": {
      "text/html": [
       "<div>\n",
       "<style scoped>\n",
       "    .dataframe tbody tr th:only-of-type {\n",
       "        vertical-align: middle;\n",
       "    }\n",
       "\n",
       "    .dataframe tbody tr th {\n",
       "        vertical-align: top;\n",
       "    }\n",
       "\n",
       "    .dataframe thead th {\n",
       "        text-align: right;\n",
       "    }\n",
       "</style>\n",
       "<table border=\"1\" class=\"dataframe\">\n",
       "  <thead>\n",
       "    <tr style=\"text-align: right;\">\n",
       "      <th></th>\n",
       "      <th>No. of unique values</th>\n",
       "    </tr>\n",
       "  </thead>\n",
       "  <tbody>\n",
       "    <tr>\n",
       "      <th>movies_name</th>\n",
       "      <td>878</td>\n",
       "    </tr>\n",
       "    <tr>\n",
       "      <th>Director_Name</th>\n",
       "      <td>510</td>\n",
       "    </tr>\n",
       "    <tr>\n",
       "      <th>duration</th>\n",
       "      <td>113</td>\n",
       "    </tr>\n",
       "    <tr>\n",
       "      <th>year</th>\n",
       "      <td>97</td>\n",
       "    </tr>\n",
       "    <tr>\n",
       "      <th>rating</th>\n",
       "      <td>26</td>\n",
       "    </tr>\n",
       "    <tr>\n",
       "      <th>metascores</th>\n",
       "      <td>67</td>\n",
       "    </tr>\n",
       "    <tr>\n",
       "      <th>star_Name</th>\n",
       "      <td>26</td>\n",
       "    </tr>\n",
       "    <tr>\n",
       "      <th>genres</th>\n",
       "      <td>66</td>\n",
       "    </tr>\n",
       "  </tbody>\n",
       "</table>\n",
       "</div>"
      ],
      "text/plain": [
       "               No. of unique values\n",
       "movies_name                     878\n",
       "Director_Name                   510\n",
       "duration                        113\n",
       "year                             97\n",
       "rating                           26\n",
       "metascores                       67\n",
       "star_Name                        26\n",
       "genres                           66"
      ]
     },
     "execution_count": 39,
     "metadata": {},
     "output_type": "execute_result"
    }
   ],
   "source": [
    "#Checking number of unique value in each column\n",
    "df.nunique().to_frame(\"No. of unique values\")"
   ]
  },
  {
   "cell_type": "code",
   "execution_count": 40,
   "id": "4ddefe9d",
   "metadata": {},
   "outputs": [
    {
     "data": {
      "image/png": "[encoded data removed]",
      "text/plain": [
       "<Figure size 720x432 with 3 Axes>"
      ]
     },
     "metadata": {},
     "output_type": "display_data"
    }
   ],
   "source": [
    "plt.figure(figsize = (10, 6), facecolor = \"white\")\n",
    "plotnumber = 1\n",
    "for col in numerical_col:   # for col using numerical_col\n",
    "    if plotnumber<=4:       #pltnumber is less than four equal to 4 each grap we are using four plot\n",
    "        ax = plt.subplot(2, 2, plotnumber) #number of plot in given dimenstion using subplot \n",
    "        sns.distplot(df[col], color = \"m\") #plt colour for columns\n",
    "        plt.xlabel(col, fontsize = 12)\n",
    "        plt.yticks(rotation = 0, fontsize =10)\n",
    "    plotnumber+=1\n",
    "plt.tight_layout()"
   ]
  },
  {
   "cell_type": "code",
   "execution_count": 41,
   "id": "39a0a448",
   "metadata": {},
   "outputs": [
    {
     "data": {
      "image/png": "[encoded data removed]",
      "text/plain": [
       "<Figure size 720x432 with 3 Axes>"
      ]
     },
     "metadata": {},
     "output_type": "display_data"
    }
   ],
   "source": [
    "plt.figure(figsize=(10, 6), facecolor=\"white\")\n",
    "plotnumber=1\n",
    "for col in numerical_col:\n",
    "    if plotnumber<=4:\n",
    "        ax=plt.subplot(2, 2, plotnumber)\n",
    "        sns.boxplot(df[col], palette= \"Set2_r\")\n",
    "        plt.xlabel(col, fontsize = 15)\n",
    "        plt.yticks(rotation=0, fontsize=10)\n",
    "    plotnumber+=1\n",
    "plt.tight_layout()"
   ]
  },
  {
   "cell_type": "code",
   "execution_count": 43,
   "id": "e89cce4e",
   "metadata": {},
   "outputs": [
    {
     "data": {
      "text/html": [
       "<div>\n",
       "<style scoped>\n",
       "    .dataframe tbody tr th:only-of-type {\n",
       "        vertical-align: middle;\n",
       "    }\n",
       "\n",
       "    .dataframe tbody tr th {\n",
       "        vertical-align: top;\n",
       "    }\n",
       "\n",
       "    .dataframe thead th {\n",
       "        text-align: right;\n",
       "    }\n",
       "</style>\n",
       "<table border=\"1\" class=\"dataframe\">\n",
       "  <thead>\n",
       "    <tr style=\"text-align: right;\">\n",
       "      <th></th>\n",
       "      <th>movies_name</th>\n",
       "      <th>Director_Name</th>\n",
       "      <th>duration</th>\n",
       "      <th>year</th>\n",
       "      <th>rating</th>\n",
       "      <th>metascores</th>\n",
       "      <th>star_Name</th>\n",
       "      <th>genres</th>\n",
       "    </tr>\n",
       "  </thead>\n",
       "  <tbody>\n",
       "    <tr>\n",
       "      <th>0</th>\n",
       "      <td>667.0</td>\n",
       "      <td>80.0</td>\n",
       "      <td>52.0</td>\n",
       "      <td>58.0</td>\n",
       "      <td>9.0</td>\n",
       "      <td>84</td>\n",
       "      <td>9.0</td>\n",
       "      <td>27.0</td>\n",
       "    </tr>\n",
       "    <tr>\n",
       "      <th>1</th>\n",
       "      <td>729.0</td>\n",
       "      <td>361.0</td>\n",
       "      <td>84.0</td>\n",
       "      <td>53.0</td>\n",
       "      <td>9.0</td>\n",
       "      <td>94</td>\n",
       "      <td>9.0</td>\n",
       "      <td>4.0</td>\n",
       "    </tr>\n",
       "    <tr>\n",
       "      <th>2</th>\n",
       "      <td>591.0</td>\n",
       "      <td>213.0</td>\n",
       "      <td>40.0</td>\n",
       "      <td>73.0</td>\n",
       "      <td>8.9</td>\n",
       "      <td>86</td>\n",
       "      <td>8.9</td>\n",
       "      <td>61.0</td>\n",
       "    </tr>\n",
       "    <tr>\n",
       "      <th>3</th>\n",
       "      <td>297.0</td>\n",
       "      <td>80.0</td>\n",
       "      <td>48.0</td>\n",
       "      <td>60.0</td>\n",
       "      <td>8.8</td>\n",
       "      <td>74</td>\n",
       "      <td>8.8</td>\n",
       "      <td>11.0</td>\n",
       "    </tr>\n",
       "    <tr>\n",
       "      <th>4</th>\n",
       "      <td>728.0</td>\n",
       "      <td>361.0</td>\n",
       "      <td>76.0</td>\n",
       "      <td>51.0</td>\n",
       "      <td>8.8</td>\n",
       "      <td>92</td>\n",
       "      <td>8.8</td>\n",
       "      <td>4.0</td>\n",
       "    </tr>\n",
       "    <tr>\n",
       "      <th>...</th>\n",
       "      <td>...</td>\n",
       "      <td>...</td>\n",
       "      <td>...</td>\n",
       "      <td>...</td>\n",
       "      <td>...</td>\n",
       "      <td>...</td>\n",
       "      <td>...</td>\n",
       "      <td>...</td>\n",
       "    </tr>\n",
       "    <tr>\n",
       "      <th>888</th>\n",
       "      <td>460.0</td>\n",
       "      <td>38.0</td>\n",
       "      <td>19.0</td>\n",
       "      <td>63.0</td>\n",
       "      <td>6.5</td>\n",
       "      <td>54</td>\n",
       "      <td>6.5</td>\n",
       "      <td>58.0</td>\n",
       "    </tr>\n",
       "    <tr>\n",
       "      <th>889</th>\n",
       "      <td>629.0</td>\n",
       "      <td>205.0</td>\n",
       "      <td>0.0</td>\n",
       "      <td>88.0</td>\n",
       "      <td>6.5</td>\n",
       "      <td>64</td>\n",
       "      <td>6.5</td>\n",
       "      <td>16.0</td>\n",
       "    </tr>\n",
       "    <tr>\n",
       "      <th>890</th>\n",
       "      <td>252.0</td>\n",
       "      <td>117.0</td>\n",
       "      <td>18.0</td>\n",
       "      <td>50.0</td>\n",
       "      <td>6.5</td>\n",
       "      <td>51</td>\n",
       "      <td>6.5</td>\n",
       "      <td>33.0</td>\n",
       "    </tr>\n",
       "    <tr>\n",
       "      <th>891</th>\n",
       "      <td>758.0</td>\n",
       "      <td>217.0</td>\n",
       "      <td>8.0</td>\n",
       "      <td>41.0</td>\n",
       "      <td>6.5</td>\n",
       "      <td>49</td>\n",
       "      <td>6.5</td>\n",
       "      <td>5.0</td>\n",
       "    </tr>\n",
       "    <tr>\n",
       "      <th>892</th>\n",
       "      <td>443.0</td>\n",
       "      <td>206.0</td>\n",
       "      <td>13.0</td>\n",
       "      <td>58.0</td>\n",
       "      <td>6.5</td>\n",
       "      <td>59</td>\n",
       "      <td>6.5</td>\n",
       "      <td>42.0</td>\n",
       "    </tr>\n",
       "  </tbody>\n",
       "</table>\n",
       "<p>893 rows × 8 columns</p>\n",
       "</div>"
      ],
      "text/plain": [
       "     movies_name  Director_Name  duration  year  rating  metascores  \\\n",
       "0          667.0           80.0      52.0  58.0     9.0          84   \n",
       "1          729.0          361.0      84.0  53.0     9.0          94   \n",
       "2          591.0          213.0      40.0  73.0     8.9          86   \n",
       "3          297.0           80.0      48.0  60.0     8.8          74   \n",
       "4          728.0          361.0      76.0  51.0     8.8          92   \n",
       "..           ...            ...       ...   ...     ...         ...   \n",
       "888        460.0           38.0      19.0  63.0     6.5          54   \n",
       "889        629.0          205.0       0.0  88.0     6.5          64   \n",
       "890        252.0          117.0      18.0  50.0     6.5          51   \n",
       "891        758.0          217.0       8.0  41.0     6.5          49   \n",
       "892        443.0          206.0      13.0  58.0     6.5          59   \n",
       "\n",
       "     star_Name  genres  \n",
       "0          9.0    27.0  \n",
       "1          9.0     4.0  \n",
       "2          8.9    61.0  \n",
       "3          8.8    11.0  \n",
       "4          8.8     4.0  \n",
       "..         ...     ...  \n",
       "888        6.5    58.0  \n",
       "889        6.5    16.0  \n",
       "890        6.5    33.0  \n",
       "891        6.5     5.0  \n",
       "892        6.5    42.0  \n",
       "\n",
       "[893 rows x 8 columns]"
      ]
     },
     "execution_count": 43,
     "metadata": {},
     "output_type": "execute_result"
    }
   ],
   "source": [
    "from sklearn.preprocessing import OrdinalEncoder\n",
    "OE = OrdinalEncoder()\n",
    "for i in df.columns:   #using for loop itrating through the columns\n",
    "    if df[i].dtypes=='object':   #and if the datatypes is object\n",
    "        df[i] = OE.fit_transform(df[i].values.reshape(-1, 1)) #i am using ordinal encoder to fit transformation after that i am using the reshapping the value\n",
    "df"
   ]
  },
  {
   "cell_type": "code",
   "execution_count": 44,
   "id": "94bef7dd",
   "metadata": {},
   "outputs": [
    {
     "name": "stdout",
     "output_type": "stream",
     "text": [
      "<class 'pandas.core.frame.DataFrame'>\n",
      "Int64Index: 893 entries, 0 to 892\n",
      "Data columns (total 8 columns):\n",
      " #   Column         Non-Null Count  Dtype  \n",
      "---  ------         --------------  -----  \n",
      " 0   movies_name    893 non-null    float64\n",
      " 1   Director_Name  893 non-null    float64\n",
      " 2   duration       893 non-null    float64\n",
      " 3   year           893 non-null    float64\n",
      " 4   rating         893 non-null    float64\n",
      " 5   metascores     893 non-null    int64  \n",
      " 6   star_Name      893 non-null    float64\n",
      " 7   genres         893 non-null    float64\n",
      "dtypes: float64(7), int64(1)\n",
      "memory usage: 95.1 KB\n"
     ]
    }
   ],
   "source": [
    "df.info()"
   ]
  },
  {
   "cell_type": "code",
   "execution_count": 45,
   "id": "db156ae0",
   "metadata": {},
   "outputs": [
    {
     "data": {
      "text/html": [
       "<div>\n",
       "<style scoped>\n",
       "    .dataframe tbody tr th:only-of-type {\n",
       "        vertical-align: middle;\n",
       "    }\n",
       "\n",
       "    .dataframe tbody tr th {\n",
       "        vertical-align: top;\n",
       "    }\n",
       "\n",
       "    .dataframe thead th {\n",
       "        text-align: right;\n",
       "    }\n",
       "</style>\n",
       "<table border=\"1\" class=\"dataframe\">\n",
       "  <thead>\n",
       "    <tr style=\"text-align: right;\">\n",
       "      <th></th>\n",
       "      <th>movies_name</th>\n",
       "      <th>Director_Name</th>\n",
       "      <th>duration</th>\n",
       "      <th>year</th>\n",
       "      <th>rating</th>\n",
       "      <th>metascores</th>\n",
       "      <th>star_Name</th>\n",
       "      <th>genres</th>\n",
       "    </tr>\n",
       "  </thead>\n",
       "  <tbody>\n",
       "    <tr>\n",
       "      <th>count</th>\n",
       "      <td>893.000000</td>\n",
       "      <td>893.000000</td>\n",
       "      <td>893.000000</td>\n",
       "      <td>893.000000</td>\n",
       "      <td>893.000000</td>\n",
       "      <td>893.000000</td>\n",
       "      <td>893.000000</td>\n",
       "      <td>893.000000</td>\n",
       "    </tr>\n",
       "    <tr>\n",
       "      <th>mean</th>\n",
       "      <td>442.314670</td>\n",
       "      <td>258.479283</td>\n",
       "      <td>37.241881</td>\n",
       "      <td>55.674132</td>\n",
       "      <td>7.231243</td>\n",
       "      <td>62.396417</td>\n",
       "      <td>7.231019</td>\n",
       "      <td>25.641657</td>\n",
       "    </tr>\n",
       "    <tr>\n",
       "      <th>std</th>\n",
       "      <td>254.682759</td>\n",
       "      <td>145.821797</td>\n",
       "      <td>32.577361</td>\n",
       "      <td>16.340689</td>\n",
       "      <td>0.534167</td>\n",
       "      <td>13.176691</td>\n",
       "      <td>0.534411</td>\n",
       "      <td>18.402066</td>\n",
       "    </tr>\n",
       "    <tr>\n",
       "      <th>min</th>\n",
       "      <td>0.000000</td>\n",
       "      <td>0.000000</td>\n",
       "      <td>0.000000</td>\n",
       "      <td>0.000000</td>\n",
       "      <td>6.500000</td>\n",
       "      <td>24.000000</td>\n",
       "      <td>6.500000</td>\n",
       "      <td>0.000000</td>\n",
       "    </tr>\n",
       "    <tr>\n",
       "      <th>25%</th>\n",
       "      <td>223.000000</td>\n",
       "      <td>137.000000</td>\n",
       "      <td>14.000000</td>\n",
       "      <td>47.000000</td>\n",
       "      <td>6.800000</td>\n",
       "      <td>53.000000</td>\n",
       "      <td>6.800000</td>\n",
       "      <td>11.000000</td>\n",
       "    </tr>\n",
       "    <tr>\n",
       "      <th>50%</th>\n",
       "      <td>443.000000</td>\n",
       "      <td>253.000000</td>\n",
       "      <td>27.000000</td>\n",
       "      <td>59.000000</td>\n",
       "      <td>7.100000</td>\n",
       "      <td>63.000000</td>\n",
       "      <td>7.100000</td>\n",
       "      <td>27.000000</td>\n",
       "    </tr>\n",
       "    <tr>\n",
       "      <th>75%</th>\n",
       "      <td>666.000000</td>\n",
       "      <td>390.000000</td>\n",
       "      <td>48.000000</td>\n",
       "      <td>67.000000</td>\n",
       "      <td>7.600000</td>\n",
       "      <td>71.000000</td>\n",
       "      <td>7.600000</td>\n",
       "      <td>38.000000</td>\n",
       "    </tr>\n",
       "    <tr>\n",
       "      <th>max</th>\n",
       "      <td>877.000000</td>\n",
       "      <td>509.000000</td>\n",
       "      <td>112.000000</td>\n",
       "      <td>96.000000</td>\n",
       "      <td>9.000000</td>\n",
       "      <td>98.000000</td>\n",
       "      <td>9.000000</td>\n",
       "      <td>65.000000</td>\n",
       "    </tr>\n",
       "  </tbody>\n",
       "</table>\n",
       "</div>"
      ],
      "text/plain": [
       "       movies_name  Director_Name    duration        year      rating  \\\n",
       "count   893.000000     893.000000  893.000000  893.000000  893.000000   \n",
       "mean    442.314670     258.479283   37.241881   55.674132    7.231243   \n",
       "std     254.682759     145.821797   32.577361   16.340689    0.534167   \n",
       "min       0.000000       0.000000    0.000000    0.000000    6.500000   \n",
       "25%     223.000000     137.000000   14.000000   47.000000    6.800000   \n",
       "50%     443.000000     253.000000   27.000000   59.000000    7.100000   \n",
       "75%     666.000000     390.000000   48.000000   67.000000    7.600000   \n",
       "max     877.000000     509.000000  112.000000   96.000000    9.000000   \n",
       "\n",
       "       metascores   star_Name      genres  \n",
       "count  893.000000  893.000000  893.000000  \n",
       "mean    62.396417    7.231019   25.641657  \n",
       "std     13.176691    0.534411   18.402066  \n",
       "min     24.000000    6.500000    0.000000  \n",
       "25%     53.000000    6.800000   11.000000  \n",
       "50%     63.000000    7.100000   27.000000  \n",
       "75%     71.000000    7.600000   38.000000  \n",
       "max     98.000000    9.000000   65.000000  "
      ]
     },
     "execution_count": 45,
     "metadata": {},
     "output_type": "execute_result"
    }
   ],
   "source": [
    "#Statistical summary of numerical\n",
    "df.describe()"
   ]
  },
  {
   "cell_type": "code",
   "execution_count": 46,
   "id": "c9b4bc06",
   "metadata": {},
   "outputs": [
    {
     "data": {
      "text/html": [
       "<div>\n",
       "<style scoped>\n",
       "    .dataframe tbody tr th:only-of-type {\n",
       "        vertical-align: middle;\n",
       "    }\n",
       "\n",
       "    .dataframe tbody tr th {\n",
       "        vertical-align: top;\n",
       "    }\n",
       "\n",
       "    .dataframe thead th {\n",
       "        text-align: right;\n",
       "    }\n",
       "</style>\n",
       "<table border=\"1\" class=\"dataframe\">\n",
       "  <thead>\n",
       "    <tr style=\"text-align: right;\">\n",
       "      <th></th>\n",
       "      <th>movies_name</th>\n",
       "      <th>Director_Name</th>\n",
       "      <th>duration</th>\n",
       "      <th>year</th>\n",
       "      <th>rating</th>\n",
       "      <th>metascores</th>\n",
       "      <th>star_Name</th>\n",
       "      <th>genres</th>\n",
       "    </tr>\n",
       "  </thead>\n",
       "  <tbody>\n",
       "    <tr>\n",
       "      <th>movies_name</th>\n",
       "      <td>1.000000</td>\n",
       "      <td>-0.019942</td>\n",
       "      <td>-0.046789</td>\n",
       "      <td>-0.085061</td>\n",
       "      <td>-0.043112</td>\n",
       "      <td>0.028215</td>\n",
       "      <td>-0.042812</td>\n",
       "      <td>-0.017800</td>\n",
       "    </tr>\n",
       "    <tr>\n",
       "      <th>Director_Name</th>\n",
       "      <td>-0.019942</td>\n",
       "      <td>1.000000</td>\n",
       "      <td>-0.009558</td>\n",
       "      <td>-0.110503</td>\n",
       "      <td>0.005101</td>\n",
       "      <td>-0.005246</td>\n",
       "      <td>0.004512</td>\n",
       "      <td>0.013220</td>\n",
       "    </tr>\n",
       "    <tr>\n",
       "      <th>duration</th>\n",
       "      <td>-0.046789</td>\n",
       "      <td>-0.009558</td>\n",
       "      <td>1.000000</td>\n",
       "      <td>-0.058559</td>\n",
       "      <td>0.084920</td>\n",
       "      <td>0.020941</td>\n",
       "      <td>0.085592</td>\n",
       "      <td>0.024799</td>\n",
       "    </tr>\n",
       "    <tr>\n",
       "      <th>year</th>\n",
       "      <td>-0.085061</td>\n",
       "      <td>-0.110503</td>\n",
       "      <td>-0.058559</td>\n",
       "      <td>1.000000</td>\n",
       "      <td>-0.115054</td>\n",
       "      <td>-0.089802</td>\n",
       "      <td>-0.104894</td>\n",
       "      <td>0.074906</td>\n",
       "    </tr>\n",
       "    <tr>\n",
       "      <th>rating</th>\n",
       "      <td>-0.043112</td>\n",
       "      <td>0.005101</td>\n",
       "      <td>0.084920</td>\n",
       "      <td>-0.115054</td>\n",
       "      <td>1.000000</td>\n",
       "      <td>0.608968</td>\n",
       "      <td>0.993245</td>\n",
       "      <td>0.049645</td>\n",
       "    </tr>\n",
       "    <tr>\n",
       "      <th>metascores</th>\n",
       "      <td>0.028215</td>\n",
       "      <td>-0.005246</td>\n",
       "      <td>0.020941</td>\n",
       "      <td>-0.089802</td>\n",
       "      <td>0.608968</td>\n",
       "      <td>1.000000</td>\n",
       "      <td>0.600345</td>\n",
       "      <td>0.042988</td>\n",
       "    </tr>\n",
       "    <tr>\n",
       "      <th>star_Name</th>\n",
       "      <td>-0.042812</td>\n",
       "      <td>0.004512</td>\n",
       "      <td>0.085592</td>\n",
       "      <td>-0.104894</td>\n",
       "      <td>0.993245</td>\n",
       "      <td>0.600345</td>\n",
       "      <td>1.000000</td>\n",
       "      <td>0.048930</td>\n",
       "    </tr>\n",
       "    <tr>\n",
       "      <th>genres</th>\n",
       "      <td>-0.017800</td>\n",
       "      <td>0.013220</td>\n",
       "      <td>0.024799</td>\n",
       "      <td>0.074906</td>\n",
       "      <td>0.049645</td>\n",
       "      <td>0.042988</td>\n",
       "      <td>0.048930</td>\n",
       "      <td>1.000000</td>\n",
       "    </tr>\n",
       "  </tbody>\n",
       "</table>\n",
       "</div>"
      ],
      "text/plain": [
       "               movies_name  Director_Name  duration      year    rating  \\\n",
       "movies_name       1.000000      -0.019942 -0.046789 -0.085061 -0.043112   \n",
       "Director_Name    -0.019942       1.000000 -0.009558 -0.110503  0.005101   \n",
       "duration         -0.046789      -0.009558  1.000000 -0.058559  0.084920   \n",
       "year             -0.085061      -0.110503 -0.058559  1.000000 -0.115054   \n",
       "rating           -0.043112       0.005101  0.084920 -0.115054  1.000000   \n",
       "metascores        0.028215      -0.005246  0.020941 -0.089802  0.608968   \n",
       "star_Name        -0.042812       0.004512  0.085592 -0.104894  0.993245   \n",
       "genres           -0.017800       0.013220  0.024799  0.074906  0.049645   \n",
       "\n",
       "               metascores  star_Name    genres  \n",
       "movies_name      0.028215  -0.042812 -0.017800  \n",
       "Director_Name   -0.005246   0.004512  0.013220  \n",
       "duration         0.020941   0.085592  0.024799  \n",
       "year            -0.089802  -0.104894  0.074906  \n",
       "rating           0.608968   0.993245  0.049645  \n",
       "metascores       1.000000   0.600345  0.042988  \n",
       "star_Name        0.600345   1.000000  0.048930  \n",
       "genres           0.042988   0.048930  1.000000  "
      ]
     },
     "execution_count": 46,
     "metadata": {},
     "output_type": "execute_result"
    }
   ],
   "source": [
    "#cheking the correlation between feature and target\n",
    "#cor -correlation\n",
    "cor = df.corr()\n",
    "cor"
   ]
  },
  {
   "cell_type": "code",
   "execution_count": 47,
   "id": "8c2e3eb0",
   "metadata": {},
   "outputs": [
    {
     "data": {
      "image/png": "[encoded data removed]",
      "text/plain": [
       "<Figure size 1440x1080 with 2 Axes>"
      ]
     },
     "metadata": {
      "needs_background": "light"
     },
     "output_type": "display_data"
    }
   ],
   "source": [
    "plt.figure(figsize = (20, 15))\n",
    "sns.heatmap(df.corr(), linewidth = 0.1, fmt = \".1g\", linecolor =\"black\", annot = True, cmap = \"Blues_r\")\n",
    "plt.yticks(rotation= 0);\n",
    "plt.show()"
   ]
  },
  {
   "cell_type": "code",
   "execution_count": 48,
   "id": "7900072b",
   "metadata": {},
   "outputs": [
    {
     "data": {
      "text/plain": [
       "star_Name        1.000000\n",
       "rating           0.993245\n",
       "metascores       0.600345\n",
       "duration         0.085592\n",
       "genres           0.048930\n",
       "Director_Name    0.004512\n",
       "movies_name     -0.042812\n",
       "year            -0.104894\n",
       "Name: star_Name, dtype: float64"
      ]
     },
     "execution_count": 48,
     "metadata": {},
     "output_type": "execute_result"
    }
   ],
   "source": [
    "cor['star_Name'].sort_values(ascending= False)"
   ]
  },
  {
   "cell_type": "markdown",
   "id": "ae3a817f",
   "metadata": {},
   "source": [
    "Visualizing the correlation between label and feature using bar plot"
   ]
  },
  {
   "cell_type": "code",
   "execution_count": 49,
   "id": "42444b6b",
   "metadata": {},
   "outputs": [
    {
     "data": {
      "image/png": "[encoded data removed]",
      "text/plain": [
       "<Figure size 1584x504 with 1 Axes>"
      ]
     },
     "metadata": {
      "needs_background": "light"
     },
     "output_type": "display_data"
    }
   ],
   "source": [
    "plt.figure(figsize = (22, 7))\n",
    "df.corr()['star_Name'].sort_values(ascending = False).drop(['star_Name']).plot(kind='bar',color=\"m\")\n",
    "plt.xlabel('Feature', fontsize = 15)\n",
    "plt.ylabel('Target', fontsize = 15)\n",
    "plt.title(\"Correlation between label and features using barplot\", fontsize=20)\n",
    "plt.show()"
   ]
  },
  {
   "cell_type": "code",
   "execution_count": 51,
   "id": "527f0e2f",
   "metadata": {},
   "outputs": [
    {
     "name": "stdout",
     "output_type": "stream",
     "text": [
      "Feature Dimention = (893, 7)\n",
      "Label Dimention (893,)\n"
     ]
    }
   ],
   "source": [
    "x = df.drop(\"star_Name\", axis=1)\n",
    "y = df[\"star_Name\"]\n",
    "\n",
    "print(\"Feature Dimention =\", x.shape)\n",
    "print(\"Label Dimention\", y.shape)"
   ]
  },
  {
   "cell_type": "markdown",
   "id": "920d1f2b",
   "metadata": {},
   "source": [
    "#feature scaling using standard Scalarization"
   ]
  },
  {
   "cell_type": "code",
   "execution_count": 52,
   "id": "3dddf70c",
   "metadata": {},
   "outputs": [
    {
     "data": {
      "text/html": [
       "<div>\n",
       "<style scoped>\n",
       "    .dataframe tbody tr th:only-of-type {\n",
       "        vertical-align: middle;\n",
       "    }\n",
       "\n",
       "    .dataframe tbody tr th {\n",
       "        vertical-align: top;\n",
       "    }\n",
       "\n",
       "    .dataframe thead th {\n",
       "        text-align: right;\n",
       "    }\n",
       "</style>\n",
       "<table border=\"1\" class=\"dataframe\">\n",
       "  <thead>\n",
       "    <tr style=\"text-align: right;\">\n",
       "      <th></th>\n",
       "      <th>movies_name</th>\n",
       "      <th>Director_Name</th>\n",
       "      <th>duration</th>\n",
       "      <th>year</th>\n",
       "      <th>rating</th>\n",
       "      <th>metascores</th>\n",
       "      <th>genres</th>\n",
       "    </tr>\n",
       "  </thead>\n",
       "  <tbody>\n",
       "    <tr>\n",
       "      <th>0</th>\n",
       "      <td>0.882711</td>\n",
       "      <td>-1.224641</td>\n",
       "      <td>0.453271</td>\n",
       "      <td>0.142416</td>\n",
       "      <td>3.313099</td>\n",
       "      <td>1.640449</td>\n",
       "      <td>0.073856</td>\n",
       "    </tr>\n",
       "    <tr>\n",
       "      <th>1</th>\n",
       "      <td>1.126287</td>\n",
       "      <td>0.703449</td>\n",
       "      <td>1.436099</td>\n",
       "      <td>-0.163740</td>\n",
       "      <td>3.313099</td>\n",
       "      <td>2.399790</td>\n",
       "      <td>-1.176704</td>\n",
       "    </tr>\n",
       "    <tr>\n",
       "      <th>2</th>\n",
       "      <td>0.584133</td>\n",
       "      <td>-0.312057</td>\n",
       "      <td>0.084711</td>\n",
       "      <td>1.060884</td>\n",
       "      <td>3.125786</td>\n",
       "      <td>1.792317</td>\n",
       "      <td>1.922510</td>\n",
       "    </tr>\n",
       "    <tr>\n",
       "      <th>3</th>\n",
       "      <td>-0.570891</td>\n",
       "      <td>-1.224641</td>\n",
       "      <td>0.330418</td>\n",
       "      <td>0.264878</td>\n",
       "      <td>2.938474</td>\n",
       "      <td>0.881108</td>\n",
       "      <td>-0.796099</td>\n",
       "    </tr>\n",
       "    <tr>\n",
       "      <th>4</th>\n",
       "      <td>1.122359</td>\n",
       "      <td>0.703449</td>\n",
       "      <td>1.190392</td>\n",
       "      <td>-0.286203</td>\n",
       "      <td>2.938474</td>\n",
       "      <td>2.247922</td>\n",
       "      <td>-1.176704</td>\n",
       "    </tr>\n",
       "    <tr>\n",
       "      <th>...</th>\n",
       "      <td>...</td>\n",
       "      <td>...</td>\n",
       "      <td>...</td>\n",
       "      <td>...</td>\n",
       "      <td>...</td>\n",
       "      <td>...</td>\n",
       "      <td>...</td>\n",
       "    </tr>\n",
       "    <tr>\n",
       "      <th>888</th>\n",
       "      <td>0.069480</td>\n",
       "      <td>-1.512825</td>\n",
       "      <td>-0.560270</td>\n",
       "      <td>0.448572</td>\n",
       "      <td>-1.369708</td>\n",
       "      <td>-0.637574</td>\n",
       "      <td>1.759394</td>\n",
       "    </tr>\n",
       "    <tr>\n",
       "      <th>889</th>\n",
       "      <td>0.733422</td>\n",
       "      <td>-0.366950</td>\n",
       "      <td>-1.143823</td>\n",
       "      <td>1.979352</td>\n",
       "      <td>-1.369708</td>\n",
       "      <td>0.121767</td>\n",
       "      <td>-0.524238</td>\n",
       "    </tr>\n",
       "    <tr>\n",
       "      <th>890</th>\n",
       "      <td>-0.747680</td>\n",
       "      <td>-0.970764</td>\n",
       "      <td>-0.590983</td>\n",
       "      <td>-0.347434</td>\n",
       "      <td>-1.369708</td>\n",
       "      <td>-0.865377</td>\n",
       "      <td>0.400089</td>\n",
       "    </tr>\n",
       "    <tr>\n",
       "      <th>891</th>\n",
       "      <td>1.240218</td>\n",
       "      <td>-0.284611</td>\n",
       "      <td>-0.898117</td>\n",
       "      <td>-0.898515</td>\n",
       "      <td>-1.369708</td>\n",
       "      <td>-1.017245</td>\n",
       "      <td>-1.122332</td>\n",
       "    </tr>\n",
       "    <tr>\n",
       "      <th>892</th>\n",
       "      <td>0.002692</td>\n",
       "      <td>-0.360088</td>\n",
       "      <td>-0.744550</td>\n",
       "      <td>0.142416</td>\n",
       "      <td>-1.369708</td>\n",
       "      <td>-0.257904</td>\n",
       "      <td>0.889439</td>\n",
       "    </tr>\n",
       "  </tbody>\n",
       "</table>\n",
       "<p>893 rows × 7 columns</p>\n",
       "</div>"
      ],
      "text/plain": [
       "     movies_name  Director_Name  duration      year    rating  metascores  \\\n",
       "0       0.882711      -1.224641  0.453271  0.142416  3.313099    1.640449   \n",
       "1       1.126287       0.703449  1.436099 -0.163740  3.313099    2.399790   \n",
       "2       0.584133      -0.312057  0.084711  1.060884  3.125786    1.792317   \n",
       "3      -0.570891      -1.224641  0.330418  0.264878  2.938474    0.881108   \n",
       "4       1.122359       0.703449  1.190392 -0.286203  2.938474    2.247922   \n",
       "..           ...            ...       ...       ...       ...         ...   \n",
       "888     0.069480      -1.512825 -0.560270  0.448572 -1.369708   -0.637574   \n",
       "889     0.733422      -0.366950 -1.143823  1.979352 -1.369708    0.121767   \n",
       "890    -0.747680      -0.970764 -0.590983 -0.347434 -1.369708   -0.865377   \n",
       "891     1.240218      -0.284611 -0.898117 -0.898515 -1.369708   -1.017245   \n",
       "892     0.002692      -0.360088 -0.744550  0.142416 -1.369708   -0.257904   \n",
       "\n",
       "       genres  \n",
       "0    0.073856  \n",
       "1   -1.176704  \n",
       "2    1.922510  \n",
       "3   -0.796099  \n",
       "4   -1.176704  \n",
       "..        ...  \n",
       "888  1.759394  \n",
       "889 -0.524238  \n",
       "890  0.400089  \n",
       "891 -1.122332  \n",
       "892  0.889439  \n",
       "\n",
       "[893 rows x 7 columns]"
      ]
     },
     "execution_count": 52,
     "metadata": {},
     "output_type": "execute_result"
    }
   ],
   "source": [
    "from sklearn.preprocessing import StandardScaler\n",
    "scaler = StandardScaler()\n",
    "x = pd.DataFrame(scaler.fit_transform(x), columns = x.columns)\n",
    "x"
   ]
  },
  {
   "cell_type": "code",
   "execution_count": 53,
   "id": "087b8387",
   "metadata": {},
   "outputs": [],
   "source": [
    "#Checking Variance inflation Factor(VIF)"
   ]
  },
  {
   "cell_type": "code",
   "execution_count": 54,
   "id": "f5184346",
   "metadata": {},
   "outputs": [
    {
     "data": {
      "text/html": [
       "<div>\n",
       "<style scoped>\n",
       "    .dataframe tbody tr th:only-of-type {\n",
       "        vertical-align: middle;\n",
       "    }\n",
       "\n",
       "    .dataframe tbody tr th {\n",
       "        vertical-align: top;\n",
       "    }\n",
       "\n",
       "    .dataframe thead th {\n",
       "        text-align: right;\n",
       "    }\n",
       "</style>\n",
       "<table border=\"1\" class=\"dataframe\">\n",
       "  <thead>\n",
       "    <tr style=\"text-align: right;\">\n",
       "      <th></th>\n",
       "      <th>VIF values</th>\n",
       "      <th>Features</th>\n",
       "    </tr>\n",
       "  </thead>\n",
       "  <tbody>\n",
       "    <tr>\n",
       "      <th>0</th>\n",
       "      <td>1.017781</td>\n",
       "      <td>movies_name</td>\n",
       "    </tr>\n",
       "    <tr>\n",
       "      <th>1</th>\n",
       "      <td>1.014301</td>\n",
       "      <td>Director_Name</td>\n",
       "    </tr>\n",
       "    <tr>\n",
       "      <th>2</th>\n",
       "      <td>1.014425</td>\n",
       "      <td>duration</td>\n",
       "    </tr>\n",
       "    <tr>\n",
       "      <th>3</th>\n",
       "      <td>1.046032</td>\n",
       "      <td>year</td>\n",
       "    </tr>\n",
       "    <tr>\n",
       "      <th>4</th>\n",
       "      <td>1.622765</td>\n",
       "      <td>rating</td>\n",
       "    </tr>\n",
       "    <tr>\n",
       "      <th>5</th>\n",
       "      <td>1.600625</td>\n",
       "      <td>metascores</td>\n",
       "    </tr>\n",
       "    <tr>\n",
       "      <th>6</th>\n",
       "      <td>1.010717</td>\n",
       "      <td>genres</td>\n",
       "    </tr>\n",
       "  </tbody>\n",
       "</table>\n",
       "</div>"
      ],
      "text/plain": [
       "   VIF values       Features\n",
       "0    1.017781    movies_name\n",
       "1    1.014301  Director_Name\n",
       "2    1.014425       duration\n",
       "3    1.046032           year\n",
       "4    1.622765         rating\n",
       "5    1.600625     metascores\n",
       "6    1.010717         genres"
      ]
     },
     "execution_count": 54,
     "metadata": {},
     "output_type": "execute_result"
    }
   ],
   "source": [
    "#Finding variance inflation factor in each scaled column i.e X.shape[1] (1/(1-R2))\n",
    "#1st import library\n",
    "#vif-x.values an the independent  variable\n",
    "#for i the range -using range function itrates over the columns\n",
    "from statsmodels.stats.outliers_influence import variance_inflation_factor\n",
    "vif = pd.DataFrame()\n",
    "vif[\"VIF values\"] = [variance_inflation_factor(x.values, i)\n",
    "                     for i in range(len(x.columns))]\n",
    "vif[\"Features\"] = x.columns\n",
    "\n",
    "vif"
   ]
  },
  {
   "cell_type": "markdown",
   "id": "8653959d",
   "metadata": {},
   "source": [
    "Modelling"
   ]
  },
  {
   "cell_type": "markdown",
   "id": "12ef68e3",
   "metadata": {},
   "source": [
    "Finding the best Random State"
   ]
  },
  {
   "cell_type": "code",
   "execution_count": 55,
   "id": "e5f14d52",
   "metadata": {},
   "outputs": [],
   "source": [
    "#Importing necessory libraries\n",
    "from sklearn.model_selection import train_test_split\n",
    "from sklearn.metrics import mean_absolute_error\n",
    "from sklearn.metrics import mean_squared_error\n",
    "from sklearn.metrics import r2_score\n",
    "from sklearn.ensemble import GradientBoostingRegressor\n",
    "from sklearn.linear_model import LinearRegression"
   ]
  },
  {
   "cell_type": "markdown",
   "id": "2600fa70",
   "metadata": {},
   "source": [
    "Creating train test Split"
   ]
  },
  {
   "cell_type": "code",
   "execution_count": 56,
   "id": "e4c836a4",
   "metadata": {},
   "outputs": [
    {
     "name": "stdout",
     "output_type": "stream",
     "text": [
      "Best accuaracy is  0.9996964670617356 at random_state 69\n"
     ]
    }
   ],
   "source": [
    "#Finding the best Random State\n",
    "maxAccu = 0\n",
    "maxRS = 0\n",
    "for i in range(1, 200):\n",
    "    x_train, x_test, y_train, y_test = train_test_split(x, y, test_size = 0.30, random_state = i)\n",
    "    lr = LinearRegression()\n",
    "    lr.fit(x_train, y_train)\n",
    "    pred = lr.predict(x_test)\n",
    "    acc = r2_score(y_test, pred)\n",
    "    if acc>maxAccu:\n",
    "        maxAccu = acc\n",
    "        maxRS = i\n",
    "print(\"Best accuaracy is \", maxAccu, \"at random_state\", maxRS)"
   ]
  },
  {
   "cell_type": "code",
   "execution_count": 57,
   "id": "1cfdc699",
   "metadata": {},
   "outputs": [],
   "source": [
    "x_train,x_test,y_train,y_test = train_test_split(x, y, test_size = 0.30, random_state = maxRS)"
   ]
  },
  {
   "cell_type": "code",
   "execution_count": 58,
   "id": "a43e44a3",
   "metadata": {},
   "outputs": [],
   "source": [
    "from sklearn.linear_model import LinearRegression\n",
    "from sklearn.ensemble import RandomForestRegressor\n",
    "from sklearn.tree import DecisionTreeRegressor\n",
    "from sklearn.neighbors import KNeighborsRegressor as KNN\n",
    "from sklearn.linear_model import Lasso,Ridge"
   ]
  },
  {
   "cell_type": "code",
   "execution_count": 60,
   "id": "b2450d82",
   "metadata": {},
   "outputs": [
    {
     "name": "stdout",
     "output_type": "stream",
     "text": [
      "R2_Score: 0.9996964670617356\n",
      "R2_Score on training data: 98.04602212980527\n",
      "Mean Absolute error:- 0.007368159707142368\n",
      "Mean Squared Error:- 9.247307782808037e-05\n",
      "Root Mean Squared Error:- 0.009616292311909013\n"
     ]
    }
   ],
   "source": [
    "import numpy as np\n",
    "#Checking accuracy for LinearRegression\n",
    "LR = LinearRegression()\n",
    "LR.fit(x_train, y_train)\n",
    "pred_LR = LR.predict(x_test)\n",
    "pred_train=LR.predict(x_train)\n",
    "print('R2_Score:',r2_score(y_test,pred_LR))\n",
    "print('R2_Score on training data:',r2_score(y_train, pred_train)*100)\n",
    "print('Mean Absolute error:-', mean_absolute_error(y_test, pred_LR))\n",
    "print('Mean Squared Error:-', mean_squared_error(y_test, pred_LR))\n",
    "print('Root Mean Squared Error:-', np.sqrt(mean_squared_error(y_test, pred_LR)))"
   ]
  },
  {
   "cell_type": "code",
   "execution_count": 61,
   "id": "ccc9228d",
   "metadata": {},
   "outputs": [
    {
     "data": {
      "image/png": "[encoded data removed]",
      "text/plain": [
       "<Figure size 720x432 with 1 Axes>"
      ]
     },
     "metadata": {
      "needs_background": "light"
     },
     "output_type": "display_data"
    }
   ],
   "source": [
    "plt.figure(figsize=(10,6))\n",
    "plt.scatter(x=pred_LR, y=y_test, color='r')\n",
    "plt.plot(pred_LR, pred_LR, color='b')\n",
    "plt.xlabel('Actual',fontsize=14)\n",
    "plt.ylabel('Predicted', fontsize=14)\n",
    "plt.title('Linear Regression', fontsize=20)\n",
    "plt.show()"
   ]
  },
  {
   "cell_type": "code",
   "execution_count": 62,
   "id": "0d28f91d",
   "metadata": {},
   "outputs": [
    {
     "name": "stdout",
     "output_type": "stream",
     "text": [
      "R2_Score: 0.9904866600940139\n",
      "R2_Score on training data: 99.12855357488046\n",
      "Mean Absolute error:- 0.014268772210380688\n",
      "Mean Squared Error:- 0.002898294420901442\n",
      "Root Mean Squared Error:- 0.053835809837889895\n"
     ]
    }
   ],
   "source": [
    "\n",
    "RFR = RandomForestRegressor()\n",
    "RFR.fit(x_train, y_train)\n",
    "pred_RFR = RFR.predict(x_test)\n",
    "pred_train=RFR.predict(x_train)\n",
    "print('R2_Score:',r2_score(y_test,pred_RFR))\n",
    "print('R2_Score on training data:',r2_score(y_train, pred_train)*100)\n",
    "print('Mean Absolute error:-', mean_absolute_error(y_test, pred_RFR))\n",
    "print('Mean Squared Error:-', mean_squared_error(y_test, pred_RFR))\n",
    "print('Root Mean Squared Error:-', np.sqrt(mean_squared_error(y_test, pred_RFR)))"
   ]
  },
  {
   "cell_type": "code",
   "execution_count": 63,
   "id": "3776126a",
   "metadata": {},
   "outputs": [
    {
     "name": "stdout",
     "output_type": "stream",
     "text": [
      "R2_Score: 0.8891139221994735\n",
      "R2_Score on training data: 90.84737367942328\n",
      "Mean Absolute error:- 0.1402985074626866\n",
      "Mean Squared Error:- 0.03378208955223882\n",
      "Root Mean Squared Error:- 0.18379904665758964\n"
     ]
    }
   ],
   "source": [
    "knn = KNN()\n",
    "knn.fit(x_train, y_train)\n",
    "pred_knn = knn.predict(x_test)\n",
    "pred_train= knn.predict(x_train)\n",
    "print('R2_Score:',r2_score(y_test,pred_knn))\n",
    "print('R2_Score on training data:',r2_score(y_train, pred_train)*100)\n",
    "print('Mean Absolute error:-', mean_absolute_error(y_test, pred_knn))\n",
    "print('Mean Squared Error:-', mean_squared_error(y_test, pred_knn))\n",
    "print('Root Mean Squared Error:-', np.sqrt(mean_squared_error(y_test, pred_knn)))"
   ]
  },
  {
   "cell_type": "code",
   "execution_count": 64,
   "id": "d26f5f8c",
   "metadata": {},
   "outputs": [
    {
     "name": "stdout",
     "output_type": "stream",
     "text": [
      "R2_Score: 0.8891139221994735\n",
      "R2_Score on training data: 90.84737367942328\n",
      "Mean Absolute error:- 0.1402985074626866\n",
      "Mean Squared Error:- 0.03378208955223882\n",
      "Root Mean Squared Error:- 0.18379904665758964\n"
     ]
    }
   ],
   "source": [
    "knn = KNN()\n",
    "knn.fit(x_train, y_train)\n",
    "pred_knn = knn.predict(x_test)\n",
    "pred_train=knn.predict(x_train)\n",
    "print('R2_Score:',r2_score(y_test,pred_knn))\n",
    "print('R2_Score on training data:',r2_score(y_train, pred_train)*100)\n",
    "print('Mean Absolute error:-', mean_absolute_error(y_test, pred_knn))\n",
    "print('Mean Squared Error:-', mean_squared_error(y_test, pred_knn))\n",
    "print('Root Mean Squared Error:-', np.sqrt(mean_squared_error(y_test, pred_knn)))"
   ]
  },
  {
   "cell_type": "code",
   "execution_count": 65,
   "id": "13de875b",
   "metadata": {},
   "outputs": [
    {
     "name": "stdout",
     "output_type": "stream",
     "text": [
      "R2_Score: 0.9873440770322022\n",
      "R2_Score on training data: 99.18098628508109\n",
      "Mean Absolute error:- 0.015099815819105989\n",
      "Mean Squared Error:- 0.0038557006573313388\n",
      "Root Mean Squared Error:- 0.062094288443715485\n"
     ]
    }
   ],
   "source": [
    "GBR = GradientBoostingRegressor()\n",
    "GBR.fit(x_train, y_train)\n",
    "pred_GBR = GBR.predict(x_test)\n",
    "pred_train= GBR.predict(x_train)\n",
    "print('R2_Score:',r2_score(y_test,pred_GBR))\n",
    "print('R2_Score on training data:',r2_score(y_train, pred_train)*100)\n",
    "print('Mean Absolute error:-', mean_absolute_error(y_test, pred_GBR))\n",
    "print('Mean Squared Error:-', mean_squared_error(y_test, pred_GBR))\n",
    "print('Root Mean Squared Error:-', np.sqrt(mean_squared_error(y_test, pred_GBR)))"
   ]
  },
  {
   "cell_type": "code",
   "execution_count": 66,
   "id": "7a7e6408",
   "metadata": {},
   "outputs": [
    {
     "name": "stdout",
     "output_type": "stream",
     "text": [
      "R2_Score: -0.00142858512547539\n",
      "R2_Score on training data: 0.0\n",
      "Mean Absolute error:- 0.45985194029850746\n",
      "Mean Squared Error:- 0.30509105213134335\n",
      "Root Mean Squared Error:- 0.5523504794343382\n"
     ]
    }
   ],
   "source": [
    "lasso = Lasso()\n",
    "lasso.fit(x_train, y_train)\n",
    "pred_lasso = lasso.predict(x_test)\n",
    "pred_train=lasso.predict(x_train)\n",
    "print('R2_Score:',r2_score(y_test,pred_lasso))\n",
    "print('R2_Score on training data:',r2_score(y_train, pred_train)*100)\n",
    "print('Mean Absolute error:-', mean_absolute_error(y_test, pred_lasso))\n",
    "print('Mean Squared Error:-', mean_squared_error(y_test, pred_lasso))\n",
    "print('Root Mean Squared Error:-', np.sqrt(mean_squared_error(y_test, pred_lasso)))"
   ]
  },
  {
   "cell_type": "code",
   "execution_count": 67,
   "id": "55679b3b",
   "metadata": {},
   "outputs": [
    {
     "name": "stdout",
     "output_type": "stream",
     "text": [
      "R2_Score: 0.9996801403114272\n",
      "R2_Score on training data: 98.04558086844692\n",
      "Mean Absolute error:- 0.0075674625301065356\n",
      "Mean Squared Error:- 9.744711741861468e-05\n",
      "Root Mean Squared Error:- 0.009871530652265367\n"
     ]
    }
   ],
   "source": [
    "rd = Ridge()\n",
    "rd.fit(x_train, y_train)\n",
    "pred_Ridge = rd.predict(x_test)\n",
    "pred_train=rd.predict(x_train)\n",
    "print('R2_Score:',r2_score(y_test,pred_Ridge))\n",
    "print('R2_Score on training data:',r2_score(y_train, pred_train)*100)\n",
    "print('Mean Absolute error:-', mean_absolute_error(y_test, pred_Ridge))\n",
    "print('Mean Squared Error:-', mean_squared_error(y_test, pred_Ridge))\n",
    "print('Root Mean Squared Error:-', np.sqrt(mean_squared_error(y_test, pred_Ridge)))"
   ]
  },
  {
   "cell_type": "code",
   "execution_count": 69,
   "id": "3ed1559a",
   "metadata": {},
   "outputs": [
    {
     "name": "stdout",
     "output_type": "stream",
     "text": [
      "R2_Score: 0.9750146241591109\n",
      "R2_Score on training data: 99.32956260849527\n",
      "Mean Absolute error:- 0.014925373134330138\n",
      "Mean Squared Error:- 0.007611940298507465\n",
      "Root Mean Squared Error:- 0.08724643430254021\n"
     ]
    }
   ],
   "source": [
    "from sklearn.tree import DecisionTreeRegressor\n",
    "dtr = DecisionTreeRegressor ()\n",
    "dtr.fit(x_train, y_train)\n",
    "pred_DTR = dtr.predict(x_test)\n",
    "pred_train= dtr.predict(x_train)\n",
    "print('R2_Score:',r2_score(y_test,pred_DTR))\n",
    "print('R2_Score on training data:',r2_score(y_train, pred_train)*100)\n",
    "print('Mean Absolute error:-', mean_absolute_error(y_test, pred_DTR))\n",
    "print('Mean Squared Error:-', mean_squared_error(y_test, pred_DTR))\n",
    "print('Root Mean Squared Error:-', np.sqrt(mean_squared_error(y_test, pred_DTR)))"
   ]
  },
  {
   "cell_type": "code",
   "execution_count": 70,
   "id": "fc58135c",
   "metadata": {},
   "outputs": [
    {
     "name": "stdout",
     "output_type": "stream",
     "text": [
      "R2_Score: 0.969603068108996\n",
      "R2_Score on training data: 97.16716540962018\n",
      "Mean Absolute error:- 0.06522644253657144\n",
      "Mean Squared Error:- 0.009260602373387617\n",
      "Root Mean Squared Error:- 0.09623202363760007\n"
     ]
    }
   ],
   "source": [
    "from sklearn.svm import SVR\n",
    "svr = SVR()\n",
    "svr.fit(x_train, y_train)\n",
    "pred_SVR = svr.predict(x_test)\n",
    "pred_train= svr.predict(x_train)\n",
    "print('R2_Score:',r2_score(y_test,pred_SVR))\n",
    "print('R2_Score on training data:',r2_score(y_train, pred_train)*100)\n",
    "print('Mean Absolute error:-', mean_absolute_error(y_test, pred_SVR))\n",
    "print('Mean Squared Error:-', mean_squared_error(y_test, pred_SVR))\n",
    "print('Root Mean Squared Error:-', np.sqrt(mean_squared_error(y_test, pred_SVR)))"
   ]
  },
  {
   "cell_type": "code",
   "execution_count": 71,
   "id": "bd62b216",
   "metadata": {},
   "outputs": [
    {
     "name": "stdout",
     "output_type": "stream",
     "text": [
      "R2_Score: 0.9808508221519449\n",
      "R2_Score on training data: 99.32956203053199\n",
      "Mean Absolute error:- 0.016373134328362102\n",
      "Mean Squared Error:- 0.005833908582089588\n",
      "Root Mean Squared Error:- 0.07638002737685806\n"
     ]
    }
   ],
   "source": [
    "from sklearn.ensemble import ExtraTreesRegressor\n",
    "etr = ExtraTreesRegressor()\n",
    "etr.fit(x_train, y_train)\n",
    "pred_ETR = etr.predict(x_test)\n",
    "pred_train= etr.predict(x_train)\n",
    "print('R2_Score:',r2_score(y_test,pred_ETR))\n",
    "print('R2_Score on training data:',r2_score(y_train, pred_train)*100)\n",
    "print('Mean Absolute error:-', mean_absolute_error(y_test, pred_ETR))\n",
    "print('Mean Squared Error:-', mean_squared_error(y_test, pred_ETR))\n",
    "print('Root Mean Squared Error:-', np.sqrt(mean_squared_error(y_test, pred_ETR)))"
   ]
  },
  {
   "cell_type": "code",
   "execution_count": 72,
   "id": "55c14b59",
   "metadata": {},
   "outputs": [],
   "source": [
    "from sklearn.model_selection import cross_val_score"
   ]
  },
  {
   "cell_type": "code",
   "execution_count": 73,
   "id": "d99e8c6f",
   "metadata": {},
   "outputs": [
    {
     "name": "stdout",
     "output_type": "stream",
     "text": [
      "[0.88300207 0.6592666  0.93639449 0.96658272 0.98062062]\n",
      "0.8851732978031418\n",
      "Difference between R2 score and cross validation score is- 11.452316925859385\n"
     ]
    }
   ],
   "source": [
    "#checking cv score for Rabdomforest clasifier\n",
    "score = cross_val_score(LR,x,y)\n",
    "print(score)\n",
    "print(score.mean())\n",
    "print(\"Difference between R2 score and cross validation score is-\", (r2_score(y_test,pred_LR) - score.mean())*100)"
   ]
  },
  {
   "cell_type": "code",
   "execution_count": 74,
   "id": "b5305356",
   "metadata": {},
   "outputs": [
    {
     "name": "stdout",
     "output_type": "stream",
     "text": [
      "[-1.63323005  0.02645148  0.26279936 -7.7655531  -1.29675816]\n",
      "-2.081258095491064\n",
      "Difference between R2 score and cross validation score is- 307.17447555850777\n"
     ]
    }
   ],
   "source": [
    "score = cross_val_score(RFR,x,y)\n",
    "print(score)\n",
    "print(score.mean())\n",
    "print(\"Difference between R2 score and cross validation score is-\", (r2_score(y_test,pred_RFR) - score.mean())*100)"
   ]
  },
  {
   "cell_type": "code",
   "execution_count": 75,
   "id": "b17813bb",
   "metadata": {},
   "outputs": [
    {
     "name": "stdout",
     "output_type": "stream",
     "text": [
      "[ -2.83592765  -1.74244834  -3.52167962  -1.03887848 -17.34332477]\n",
      "-5.296451773076451\n",
      "Difference between R2 score and cross validation score is- 618.5565695275924\n"
     ]
    }
   ],
   "source": [
    "score = cross_val_score(knn,x,y)\n",
    "print(score)\n",
    "print(score.mean())\n",
    "print(\"Difference between R2 score and cross validation score is-\", (r2_score(y_test,pred_knn) - score.mean())*100)"
   ]
  },
  {
   "cell_type": "code",
   "execution_count": 76,
   "id": "ff0270b8",
   "metadata": {},
   "outputs": [
    {
     "name": "stdout",
     "output_type": "stream",
     "text": [
      "[-1.95723084  0.03447692  0.19093388 -8.20117694 -1.459914  ]\n",
      "-2.278582194294517\n",
      "Difference between R2 score and cross validation score is- 326.5926271326719\n"
     ]
    }
   ],
   "source": [
    "score = cross_val_score(GBR,x,y)\n",
    "print(score)\n",
    "print(score.mean())\n",
    "print(\"Difference between R2 score and cross validation score is-\", (r2_score(y_test,pred_GBR) - score.mean())*100)"
   ]
  },
  {
   "cell_type": "code",
   "execution_count": 77,
   "id": "ecd8e512",
   "metadata": {},
   "outputs": [
    {
     "name": "stdout",
     "output_type": "stream",
     "text": [
      "[ -11.1111167    -5.26447363   -1.44100407  -21.3770846  -114.84781777]\n",
      "-30.808299353968255\n",
      "Difference between R2 score and cross validation score is- 3080.687076884278\n"
     ]
    }
   ],
   "source": [
    "score = cross_val_score(lasso,x,y)\n",
    "print(score)\n",
    "print(score.mean())\n",
    "print(\"Difference between R2 score and cross validation score is-\", (r2_score(y_test,pred_lasso) - score.mean())*100)"
   ]
  },
  {
   "cell_type": "code",
   "execution_count": 80,
   "id": "db54b98e",
   "metadata": {},
   "outputs": [
    {
     "name": "stdout",
     "output_type": "stream",
     "text": [
      "[0.88250594 0.65986988 0.93660078 0.9663048  0.9775493 ]\n",
      "0.884566137121821\n"
     ]
    },
    {
     "ename": "NameError",
     "evalue": "name 'pred_rd' is not defined",
     "output_type": "error",
     "traceback": [
      "\u001b[1;31m---------------------------------------------------------------------------\u001b[0m",
      "\u001b[1;31mNameError\u001b[0m                                 Traceback (most recent call last)",
      "Input \u001b[1;32mIn [80]\u001b[0m, in \u001b[0;36m<cell line: 4>\u001b[1;34m()\u001b[0m\n\u001b[0;32m      2\u001b[0m \u001b[38;5;28mprint\u001b[39m(score)\n\u001b[0;32m      3\u001b[0m \u001b[38;5;28mprint\u001b[39m(score\u001b[38;5;241m.\u001b[39mmean())\n\u001b[1;32m----> 4\u001b[0m \u001b[38;5;28mprint\u001b[39m(\u001b[38;5;124m\"\u001b[39m\u001b[38;5;124mDifference between R2 score and cross validation score is-\u001b[39m\u001b[38;5;124m\"\u001b[39m, (r2_score(y_test,\u001b[43mpred_rd\u001b[49m) \u001b[38;5;241m-\u001b[39m score\u001b[38;5;241m.\u001b[39mmean())\u001b[38;5;241m*\u001b[39m\u001b[38;5;241m100\u001b[39m)\n",
      "\u001b[1;31mNameError\u001b[0m: name 'pred_rd' is not defined"
     ]
    }
   ],
   "source": [
    "score = cross_val_score(rd,x,y)\n",
    "print(score)\n",
    "print(score.mean())\n",
    "print(\"Difference between R2 score and cross validation score is-\", (r2_score(y_test,pred_rd) - score.mean())*100)"
   ]
  },
  {
   "cell_type": "code",
   "execution_count": 82,
   "id": "23cccd48",
   "metadata": {},
   "outputs": [
    {
     "name": "stdout",
     "output_type": "stream",
     "text": [
      "[ -1.75308626  -0.25776038   0.23885456 -11.52848034  -1.65814467]\n",
      "-2.991723418436677\n",
      "Difference between R2 score and cross validation score is- 396.6738042595788\n"
     ]
    }
   ],
   "source": [
    "score = cross_val_score(dtr,x,y)\n",
    "print(score)\n",
    "print(score.mean())\n",
    "print(\"Difference between R2 score and cross validation score is-\", (r2_score(y_test,pred_DTR) - score.mean())*100)"
   ]
  },
  {
   "cell_type": "code",
   "execution_count": 83,
   "id": "02541a21",
   "metadata": {},
   "outputs": [
    {
     "name": "stdout",
     "output_type": "stream",
     "text": [
      "[-2.40401048  0.5290947   0.44534343  0.38476752 -5.73726109]\n",
      "-1.3564131842605711\n",
      "Difference between R2 score and cross validation score is- 232.60162523695672\n"
     ]
    }
   ],
   "source": [
    "score = cross_val_score(svr,x,y)\n",
    "print(score)\n",
    "print(score.mean())\n",
    "print(\"Difference between R2 score and cross validation score is-\", (r2_score(y_test,pred_SVR) - score.mean())*100)"
   ]
  },
  {
   "cell_type": "code",
   "execution_count": 84,
   "id": "766808a1",
   "metadata": {},
   "outputs": [
    {
     "name": "stdout",
     "output_type": "stream",
     "text": [
      "[ -1.76826945   0.65034023   0.93290146 -10.7284622   -0.41926877]\n",
      "-2.2665517458836373\n",
      "Difference between R2 score and cross validation score is- 324.7402568035582\n"
     ]
    }
   ],
   "source": [
    "score = cross_val_score(etr,x,y)\n",
    "print(score)\n",
    "print(score.mean())\n",
    "print(\"Difference between R2 score and cross validation score is-\", (r2_score(y_test,pred_ETR) - score.mean())*100)"
   ]
  },
  {
   "cell_type": "code",
   "execution_count": 85,
   "id": "dc52fbaf",
   "metadata": {},
   "outputs": [],
   "source": [
    "from sklearn.model_selection import GridSearchCV"
   ]
  },
  {
   "cell_type": "code",
   "execution_count": 86,
   "id": "14884680",
   "metadata": {},
   "outputs": [
    {
     "data": {
      "text/plain": [
       "GridSearchCV(cv=5, estimator=Ridge(),\n",
       "             param_grid={'alpha': [1.0, 0.05, 0.4, 2],\n",
       "                         'fit_intercept': [True, False],\n",
       "                         'positive': [False, True],\n",
       "                         'random_state': [1, 4, 10, 20],\n",
       "                         'solver': ['auto', 'svd', 'cholesky', 'lsqr', 'saga',\n",
       "                                    'lbfgs']})"
      ]
     },
     "execution_count": 86,
     "metadata": {},
     "output_type": "execute_result"
    }
   ],
   "source": [
    "param={'alpha':[1.0,.05,.4,2], 'fit_intercept':[True, False],\n",
    "      'solver':['auto', 'svd', 'cholesky', 'lsqr', 'saga', 'lbfgs'],\n",
    "      'positive':[False, True],\n",
    "      'random_state':[1,4,10,20]\n",
    "      \n",
    "      }\n",
    "gscv=GridSearchCV(Ridge(),param,cv=5)\n",
    "gscv.fit(x_train,y_train)"
   ]
  },
  {
   "cell_type": "code",
   "execution_count": 87,
   "id": "95c2ea89",
   "metadata": {},
   "outputs": [
    {
     "data": {
      "text/plain": [
       "{'alpha': 0.05,\n",
       " 'fit_intercept': True,\n",
       " 'positive': True,\n",
       " 'random_state': 1,\n",
       " 'solver': 'auto'}"
      ]
     },
     "execution_count": 87,
     "metadata": {},
     "output_type": "execute_result"
    }
   ],
   "source": [
    "gscv.best_params_"
   ]
  },
  {
   "cell_type": "code",
   "execution_count": 88,
   "id": "79479713",
   "metadata": {},
   "outputs": [],
   "source": [
    "model=Ridge(alpha= 0.05, fit_intercept=True, positive=True, random_state= 1, solver='auto')"
   ]
  },
  {
   "cell_type": "code",
   "execution_count": 89,
   "id": "064bdfc8",
   "metadata": {},
   "outputs": [
    {
     "name": "stdout",
     "output_type": "stream",
     "text": [
      "R2_Score: 0.9997345826429644\n",
      "Mean Absolute error:- 0.006731712797747857\n",
      "Mean Squared Error:- 8.086094397011085e-05\n",
      "Root Mean Squared Error:- 0.008992271346557045\n"
     ]
    }
   ],
   "source": [
    "model.fit(x_train,y_train)\n",
    "pred=model.predict(x_test)\n",
    "print('R2_Score:',r2_score(y_test,pred))\n",
    "print('Mean Absolute error:-', mean_absolute_error(y_test, pred))\n",
    "print('Mean Squared Error:-', mean_squared_error(y_test, pred))\n",
    "print('Root Mean Squared Error:-', np.sqrt(mean_squared_error(y_test, pred)))"
   ]
  },
  {
   "cell_type": "code",
   "execution_count": 90,
   "id": "ef3c1233",
   "metadata": {},
   "outputs": [],
   "source": [
    "#use this model to save this model\n",
    "import joblib\n",
    "#jonlib.dump(model,'Teslastock.pkl')"
   ]
  },
  {
   "cell_type": "code",
   "execution_count": 91,
   "id": "2949b380",
   "metadata": {},
   "outputs": [],
   "source": [
    "import pickle\n",
    "filename=\"imbd.pkl\"\n",
    "pickle.dump(model, open(filename, 'wb'))"
   ]
  },
  {
   "cell_type": "code",
   "execution_count": 92,
   "id": "9f44b529",
   "metadata": {},
   "outputs": [
    {
     "name": "stdout",
     "output_type": "stream",
     "text": [
      "99.97345826429644\n"
     ]
    }
   ],
   "source": [
    "import pickle\n",
    "loaded_model=pickle.load(open('imbd.pkl','rb')) #read permission\n",
    "result=loaded_model.score(x_test, y_test)\n",
    "print(result*100)"
   ]
  },
  {
   "cell_type": "code",
   "execution_count": 93,
   "id": "eb79b75a",
   "metadata": {},
   "outputs": [
    {
     "data": {
      "text/html": [
       "<div>\n",
       "<style scoped>\n",
       "    .dataframe tbody tr th:only-of-type {\n",
       "        vertical-align: middle;\n",
       "    }\n",
       "\n",
       "    .dataframe tbody tr th {\n",
       "        vertical-align: top;\n",
       "    }\n",
       "\n",
       "    .dataframe thead th {\n",
       "        text-align: right;\n",
       "    }\n",
       "</style>\n",
       "<table border=\"1\" class=\"dataframe\">\n",
       "  <thead>\n",
       "    <tr style=\"text-align: right;\">\n",
       "      <th></th>\n",
       "      <th>0</th>\n",
       "      <th>1</th>\n",
       "      <th>2</th>\n",
       "      <th>3</th>\n",
       "      <th>4</th>\n",
       "      <th>5</th>\n",
       "      <th>6</th>\n",
       "      <th>7</th>\n",
       "      <th>8</th>\n",
       "      <th>9</th>\n",
       "      <th>...</th>\n",
       "      <th>258</th>\n",
       "      <th>259</th>\n",
       "      <th>260</th>\n",
       "      <th>261</th>\n",
       "      <th>262</th>\n",
       "      <th>263</th>\n",
       "      <th>264</th>\n",
       "      <th>265</th>\n",
       "      <th>266</th>\n",
       "      <th>267</th>\n",
       "    </tr>\n",
       "  </thead>\n",
       "  <tbody>\n",
       "    <tr>\n",
       "      <th>Predicted</th>\n",
       "      <td>6.506227</td>\n",
       "      <td>7.204017</td>\n",
       "      <td>6.995561</td>\n",
       "      <td>7.106554</td>\n",
       "      <td>8.380765</td>\n",
       "      <td>7.994141</td>\n",
       "      <td>6.707194</td>\n",
       "      <td>6.907267</td>\n",
       "      <td>7.002076</td>\n",
       "      <td>7.015329</td>\n",
       "      <td>...</td>\n",
       "      <td>6.70725</td>\n",
       "      <td>7.016591</td>\n",
       "      <td>6.698549</td>\n",
       "      <td>7.399952</td>\n",
       "      <td>7.303193</td>\n",
       "      <td>7.004981</td>\n",
       "      <td>7.185579</td>\n",
       "      <td>8.06997</td>\n",
       "      <td>7.89345</td>\n",
       "      <td>7.694289</td>\n",
       "    </tr>\n",
       "    <tr>\n",
       "      <th>Original</th>\n",
       "      <td>6.500000</td>\n",
       "      <td>7.200000</td>\n",
       "      <td>7.000000</td>\n",
       "      <td>7.100000</td>\n",
       "      <td>8.400000</td>\n",
       "      <td>8.000000</td>\n",
       "      <td>6.700000</td>\n",
       "      <td>6.900000</td>\n",
       "      <td>7.000000</td>\n",
       "      <td>7.000000</td>\n",
       "      <td>...</td>\n",
       "      <td>6.70000</td>\n",
       "      <td>7.000000</td>\n",
       "      <td>6.700000</td>\n",
       "      <td>7.400000</td>\n",
       "      <td>7.300000</td>\n",
       "      <td>7.000000</td>\n",
       "      <td>7.200000</td>\n",
       "      <td>8.10000</td>\n",
       "      <td>7.90000</td>\n",
       "      <td>7.700000</td>\n",
       "    </tr>\n",
       "  </tbody>\n",
       "</table>\n",
       "<p>2 rows × 268 columns</p>\n",
       "</div>"
      ],
      "text/plain": [
       "                0         1         2         3         4         5    \\\n",
       "Predicted  6.506227  7.204017  6.995561  7.106554  8.380765  7.994141   \n",
       "Original   6.500000  7.200000  7.000000  7.100000  8.400000  8.000000   \n",
       "\n",
       "                6         7         8         9    ...      258       259  \\\n",
       "Predicted  6.707194  6.907267  7.002076  7.015329  ...  6.70725  7.016591   \n",
       "Original   6.700000  6.900000  7.000000  7.000000  ...  6.70000  7.000000   \n",
       "\n",
       "                260       261       262       263       264      265      266  \\\n",
       "Predicted  6.698549  7.399952  7.303193  7.004981  7.185579  8.06997  7.89345   \n",
       "Original   6.700000  7.400000  7.300000  7.000000  7.200000  8.10000  7.90000   \n",
       "\n",
       "                267  \n",
       "Predicted  7.694289  \n",
       "Original   7.700000  \n",
       "\n",
       "[2 rows x 268 columns]"
      ]
     },
     "execution_count": 93,
     "metadata": {},
     "output_type": "execute_result"
    }
   ],
   "source": [
    "conclusion=pd.DataFrame([loaded_model.predict(x_test)[:],y_test[:]],index=[\"Predicted\",\"Original\"])\n",
    "conclusion"
   ]
  },
  {
   "cell_type": "code",
   "execution_count": null,
   "id": "04de3516",
   "metadata": {},
   "outputs": [],
   "source": []
  }
 ],
 "metadata": {
  "kernelspec": {
   "display_name": "Python 3 (ipykernel)",
   "language": "python",
   "name": "python3"
  },
  "language_info": {
   "codemirror_mode": {
    "name": "ipython",
    "version": 3
   },
   "file_extension": ".py",
   "mimetype": "text/x-python",
   "name": "python",
   "nbconvert_exporter": "python",
   "pygments_lexer": "ipython3",
   "version": "3.9.12"
  }
 },
 "nbformat": 4,
 "nbformat_minor": 5
}
